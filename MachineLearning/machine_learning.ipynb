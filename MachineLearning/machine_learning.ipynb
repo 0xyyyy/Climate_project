{
 "metadata": {
  "language_info": {
   "codemirror_mode": {
    "name": "ipython",
    "version": 3
   },
   "file_extension": ".py",
   "mimetype": "text/x-python",
   "name": "python",
   "nbconvert_exporter": "python",
   "pygments_lexer": "ipython3",
   "version": 3
  },
  "orig_nbformat": 2,
  "kernelspec": {
   "name": "python_defaultSpec_1595983606055",
   "display_name": "Python 3.7.4 64-bit ('base': conda)"
  }
 },
 "nbformat": 4,
 "nbformat_minor": 2,
 "cells": [
  {
   "cell_type": "code",
   "execution_count": 1,
   "metadata": {},
   "outputs": [],
   "source": [
    "import pandas as pd \n",
    "import numpy as np \n",
    "import matplotlib.pyplot as plt \n",
    "import datetime as dt"
   ]
  },
  {
   "cell_type": "code",
   "execution_count": 2,
   "metadata": {},
   "outputs": [
    {
     "output_type": "execute_result",
     "data": {
      "text/plain": "           dt  AverageTemperature  AverageTemperatureUncertainty Country\n0  1743-11-01               4.384                          2.294   Åland\n1  1743-12-01                 NaN                            NaN   Åland\n2  1744-01-01                 NaN                            NaN   Åland\n3  1744-02-01                 NaN                            NaN   Åland\n4  1744-03-01                 NaN                            NaN   Åland",
      "text/html": "<div>\n<style scoped>\n    .dataframe tbody tr th:only-of-type {\n        vertical-align: middle;\n    }\n\n    .dataframe tbody tr th {\n        vertical-align: top;\n    }\n\n    .dataframe thead th {\n        text-align: right;\n    }\n</style>\n<table border=\"1\" class=\"dataframe\">\n  <thead>\n    <tr style=\"text-align: right;\">\n      <th></th>\n      <th>dt</th>\n      <th>AverageTemperature</th>\n      <th>AverageTemperatureUncertainty</th>\n      <th>Country</th>\n    </tr>\n  </thead>\n  <tbody>\n    <tr>\n      <td>0</td>\n      <td>1743-11-01</td>\n      <td>4.384</td>\n      <td>2.294</td>\n      <td>Åland</td>\n    </tr>\n    <tr>\n      <td>1</td>\n      <td>1743-12-01</td>\n      <td>NaN</td>\n      <td>NaN</td>\n      <td>Åland</td>\n    </tr>\n    <tr>\n      <td>2</td>\n      <td>1744-01-01</td>\n      <td>NaN</td>\n      <td>NaN</td>\n      <td>Åland</td>\n    </tr>\n    <tr>\n      <td>3</td>\n      <td>1744-02-01</td>\n      <td>NaN</td>\n      <td>NaN</td>\n      <td>Åland</td>\n    </tr>\n    <tr>\n      <td>4</td>\n      <td>1744-03-01</td>\n      <td>NaN</td>\n      <td>NaN</td>\n      <td>Åland</td>\n    </tr>\n  </tbody>\n</table>\n</div>"
     },
     "metadata": {},
     "execution_count": 2
    }
   ],
   "source": [
    "temps = pd.read_csv('GlobalLandTemperaturesByCountry.csv')\n",
    "temps.head()"
   ]
  },
  {
   "cell_type": "code",
   "execution_count": 3,
   "metadata": {},
   "outputs": [
    {
     "output_type": "execute_result",
     "data": {
      "text/plain": "                dt  AverageTemperature  AverageTemperatureUncertainty  \\\n554880  1768-09-01              15.420                          2.880   \n554881  1768-10-01               8.162                          3.386   \n554882  1768-11-01               1.591                          3.783   \n554883  1768-12-01              -2.882                          4.979   \n554884  1769-01-01              -3.952                          4.856   \n\n              Country  \n554880  United States  \n554881  United States  \n554882  United States  \n554883  United States  \n554884  United States  ",
      "text/html": "<div>\n<style scoped>\n    .dataframe tbody tr th:only-of-type {\n        vertical-align: middle;\n    }\n\n    .dataframe tbody tr th {\n        vertical-align: top;\n    }\n\n    .dataframe thead th {\n        text-align: right;\n    }\n</style>\n<table border=\"1\" class=\"dataframe\">\n  <thead>\n    <tr style=\"text-align: right;\">\n      <th></th>\n      <th>dt</th>\n      <th>AverageTemperature</th>\n      <th>AverageTemperatureUncertainty</th>\n      <th>Country</th>\n    </tr>\n  </thead>\n  <tbody>\n    <tr>\n      <td>554880</td>\n      <td>1768-09-01</td>\n      <td>15.420</td>\n      <td>2.880</td>\n      <td>United States</td>\n    </tr>\n    <tr>\n      <td>554881</td>\n      <td>1768-10-01</td>\n      <td>8.162</td>\n      <td>3.386</td>\n      <td>United States</td>\n    </tr>\n    <tr>\n      <td>554882</td>\n      <td>1768-11-01</td>\n      <td>1.591</td>\n      <td>3.783</td>\n      <td>United States</td>\n    </tr>\n    <tr>\n      <td>554883</td>\n      <td>1768-12-01</td>\n      <td>-2.882</td>\n      <td>4.979</td>\n      <td>United States</td>\n    </tr>\n    <tr>\n      <td>554884</td>\n      <td>1769-01-01</td>\n      <td>-3.952</td>\n      <td>4.856</td>\n      <td>United States</td>\n    </tr>\n  </tbody>\n</table>\n</div>"
     },
     "metadata": {},
     "execution_count": 3
    }
   ],
   "source": [
    "us_temps = temps[temps[\"Country\"] == \"United States\"]\n",
    "us_temps.head()"
   ]
  },
  {
   "cell_type": "code",
   "execution_count": 10,
   "metadata": {},
   "outputs": [
    {
     "output_type": "execute_result",
     "data": {
      "text/plain": "                dt  AverageTemperature  AverageTemperatureUncertainty  \\\n557236  1965-01-01              -3.194                          0.120   \n557237  1965-02-01              -3.053                          0.152   \n557238  1965-03-01               0.886                          0.254   \n557239  1965-04-01               8.701                          0.157   \n557240  1965-05-01              13.778                          0.344   \n...            ...                 ...                            ...   \n557816  2013-05-01              14.073                          0.178   \n557817  2013-06-01              20.198                          0.236   \n557818  2013-07-01              22.074                          0.152   \n557819  2013-08-01              21.168                          0.249   \n557820  2013-09-01              18.273                          1.210   \n\n              Country  \n557236  United States  \n557237  United States  \n557238  United States  \n557239  United States  \n557240  United States  \n...               ...  \n557816  United States  \n557817  United States  \n557818  United States  \n557819  United States  \n557820  United States  \n\n[585 rows x 4 columns]",
      "text/html": "<div>\n<style scoped>\n    .dataframe tbody tr th:only-of-type {\n        vertical-align: middle;\n    }\n\n    .dataframe tbody tr th {\n        vertical-align: top;\n    }\n\n    .dataframe thead th {\n        text-align: right;\n    }\n</style>\n<table border=\"1\" class=\"dataframe\">\n  <thead>\n    <tr style=\"text-align: right;\">\n      <th></th>\n      <th>dt</th>\n      <th>AverageTemperature</th>\n      <th>AverageTemperatureUncertainty</th>\n      <th>Country</th>\n    </tr>\n  </thead>\n  <tbody>\n    <tr>\n      <td>557236</td>\n      <td>1965-01-01</td>\n      <td>-3.194</td>\n      <td>0.120</td>\n      <td>United States</td>\n    </tr>\n    <tr>\n      <td>557237</td>\n      <td>1965-02-01</td>\n      <td>-3.053</td>\n      <td>0.152</td>\n      <td>United States</td>\n    </tr>\n    <tr>\n      <td>557238</td>\n      <td>1965-03-01</td>\n      <td>0.886</td>\n      <td>0.254</td>\n      <td>United States</td>\n    </tr>\n    <tr>\n      <td>557239</td>\n      <td>1965-04-01</td>\n      <td>8.701</td>\n      <td>0.157</td>\n      <td>United States</td>\n    </tr>\n    <tr>\n      <td>557240</td>\n      <td>1965-05-01</td>\n      <td>13.778</td>\n      <td>0.344</td>\n      <td>United States</td>\n    </tr>\n    <tr>\n      <td>...</td>\n      <td>...</td>\n      <td>...</td>\n      <td>...</td>\n      <td>...</td>\n    </tr>\n    <tr>\n      <td>557816</td>\n      <td>2013-05-01</td>\n      <td>14.073</td>\n      <td>0.178</td>\n      <td>United States</td>\n    </tr>\n    <tr>\n      <td>557817</td>\n      <td>2013-06-01</td>\n      <td>20.198</td>\n      <td>0.236</td>\n      <td>United States</td>\n    </tr>\n    <tr>\n      <td>557818</td>\n      <td>2013-07-01</td>\n      <td>22.074</td>\n      <td>0.152</td>\n      <td>United States</td>\n    </tr>\n    <tr>\n      <td>557819</td>\n      <td>2013-08-01</td>\n      <td>21.168</td>\n      <td>0.249</td>\n      <td>United States</td>\n    </tr>\n    <tr>\n      <td>557820</td>\n      <td>2013-09-01</td>\n      <td>18.273</td>\n      <td>1.210</td>\n      <td>United States</td>\n    </tr>\n  </tbody>\n</table>\n<p>585 rows × 4 columns</p>\n</div>"
     },
     "metadata": {},
     "execution_count": 10
    }
   ],
   "source": [
    "us_temps = us_temps[us_temps[\"dt\"] >= '1965-01-01']\n",
    "us_temps"
   ]
  },
  {
   "cell_type": "code",
   "execution_count": 11,
   "metadata": {},
   "outputs": [
    {
     "output_type": "execute_result",
     "data": {
      "text/plain": "585"
     },
     "metadata": {},
     "execution_count": 11
    }
   ],
   "source": []
  },
  {
   "cell_type": "code",
   "execution_count": null,
   "metadata": {},
   "outputs": [],
   "source": []
  }
 ]
}