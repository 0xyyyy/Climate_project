{
 "metadata": {
  "language_info": {
   "codemirror_mode": {
    "name": "ipython",
    "version": 3
   },
   "file_extension": ".py",
   "mimetype": "text/x-python",
   "name": "python",
   "nbconvert_exporter": "python",
   "pygments_lexer": "ipython3",
   "version": 3
  },
  "orig_nbformat": 2,
  "kernelspec": {
   "name": "python_defaultSpec_1595983606055",
   "display_name": "Python 3.7.4 64-bit ('base': conda)"
  }
 },
 "nbformat": 4,
 "nbformat_minor": 2,
 "cells": [
  {
   "cell_type": "code",
   "execution_count": 1,
   "metadata": {},
   "outputs": [],
   "source": [
    "import pandas as pd \n",
    "import numpy as np \n",
    "import matplotlib.pyplot as plt \n",
    "import datetime as dt\n",
    "%matplotlib inline"
   ]
  },
  {
   "cell_type": "code",
   "execution_count": 2,
   "metadata": {},
   "outputs": [
    {
     "output_type": "execute_result",
     "data": {
      "text/plain": "           dt  AverageTemperature  AverageTemperatureUncertainty Country\n0  1743-11-01               4.384                          2.294   Åland\n1  1743-12-01                 NaN                            NaN   Åland\n2  1744-01-01                 NaN                            NaN   Åland\n3  1744-02-01                 NaN                            NaN   Åland\n4  1744-03-01                 NaN                            NaN   Åland",
      "text/html": "<div>\n<style scoped>\n    .dataframe tbody tr th:only-of-type {\n        vertical-align: middle;\n    }\n\n    .dataframe tbody tr th {\n        vertical-align: top;\n    }\n\n    .dataframe thead th {\n        text-align: right;\n    }\n</style>\n<table border=\"1\" class=\"dataframe\">\n  <thead>\n    <tr style=\"text-align: right;\">\n      <th></th>\n      <th>dt</th>\n      <th>AverageTemperature</th>\n      <th>AverageTemperatureUncertainty</th>\n      <th>Country</th>\n    </tr>\n  </thead>\n  <tbody>\n    <tr>\n      <td>0</td>\n      <td>1743-11-01</td>\n      <td>4.384</td>\n      <td>2.294</td>\n      <td>Åland</td>\n    </tr>\n    <tr>\n      <td>1</td>\n      <td>1743-12-01</td>\n      <td>NaN</td>\n      <td>NaN</td>\n      <td>Åland</td>\n    </tr>\n    <tr>\n      <td>2</td>\n      <td>1744-01-01</td>\n      <td>NaN</td>\n      <td>NaN</td>\n      <td>Åland</td>\n    </tr>\n    <tr>\n      <td>3</td>\n      <td>1744-02-01</td>\n      <td>NaN</td>\n      <td>NaN</td>\n      <td>Åland</td>\n    </tr>\n    <tr>\n      <td>4</td>\n      <td>1744-03-01</td>\n      <td>NaN</td>\n      <td>NaN</td>\n      <td>Åland</td>\n    </tr>\n  </tbody>\n</table>\n</div>"
     },
     "metadata": {},
     "execution_count": 2
    }
   ],
   "source": [
    "temps = pd.read_csv('./GlobalLandTemperaturesByCountry.csv')\n",
    "temps.head()"
   ]
  },
  {
   "cell_type": "code",
   "execution_count": 3,
   "metadata": {},
   "outputs": [
    {
     "output_type": "execute_result",
     "data": {
      "text/plain": "   Year  Thousand Oil Barrels Daily\n0  1965                11522.187698\n1  1966                12100.347314\n2  1967                12566.880466\n3  1968                13404.548552\n4  1969                14152.985096",
      "text/html": "<div>\n<style scoped>\n    .dataframe tbody tr th:only-of-type {\n        vertical-align: middle;\n    }\n\n    .dataframe tbody tr th {\n        vertical-align: top;\n    }\n\n    .dataframe thead th {\n        text-align: right;\n    }\n</style>\n<table border=\"1\" class=\"dataframe\">\n  <thead>\n    <tr style=\"text-align: right;\">\n      <th></th>\n      <th>Year</th>\n      <th>Thousand Oil Barrels Daily</th>\n    </tr>\n  </thead>\n  <tbody>\n    <tr>\n      <td>0</td>\n      <td>1965</td>\n      <td>11522.187698</td>\n    </tr>\n    <tr>\n      <td>1</td>\n      <td>1966</td>\n      <td>12100.347314</td>\n    </tr>\n    <tr>\n      <td>2</td>\n      <td>1967</td>\n      <td>12566.880466</td>\n    </tr>\n    <tr>\n      <td>3</td>\n      <td>1968</td>\n      <td>13404.548552</td>\n    </tr>\n    <tr>\n      <td>4</td>\n      <td>1969</td>\n      <td>14152.985096</td>\n    </tr>\n  </tbody>\n</table>\n</div>"
     },
     "metadata": {},
     "execution_count": 3
    }
   ],
   "source": [
    "oil = pd.read_excel('MachineLearning\\OilConsumption.xlsx')\n",
    "oil.head()"
   ]
  },
  {
   "cell_type": "code",
   "execution_count": 4,
   "metadata": {},
   "outputs": [
    {
     "output_type": "execute_result",
     "data": {
      "text/plain": "                dt  AverageTemperature  AverageTemperatureUncertainty  \\\n557236  1965-01-01              -3.194                          0.120   \n557237  1965-02-01              -3.053                          0.152   \n557238  1965-03-01               0.886                          0.254   \n557239  1965-04-01               8.701                          0.157   \n557240  1965-05-01              13.778                          0.344   \n...            ...                 ...                            ...   \n557816  2013-05-01              14.073                          0.178   \n557817  2013-06-01              20.198                          0.236   \n557818  2013-07-01              22.074                          0.152   \n557819  2013-08-01              21.168                          0.249   \n557820  2013-09-01              18.273                          1.210   \n\n              Country  \n557236  United States  \n557237  United States  \n557238  United States  \n557239  United States  \n557240  United States  \n...               ...  \n557816  United States  \n557817  United States  \n557818  United States  \n557819  United States  \n557820  United States  \n\n[585 rows x 4 columns]",
      "text/html": "<div>\n<style scoped>\n    .dataframe tbody tr th:only-of-type {\n        vertical-align: middle;\n    }\n\n    .dataframe tbody tr th {\n        vertical-align: top;\n    }\n\n    .dataframe thead th {\n        text-align: right;\n    }\n</style>\n<table border=\"1\" class=\"dataframe\">\n  <thead>\n    <tr style=\"text-align: right;\">\n      <th></th>\n      <th>dt</th>\n      <th>AverageTemperature</th>\n      <th>AverageTemperatureUncertainty</th>\n      <th>Country</th>\n    </tr>\n  </thead>\n  <tbody>\n    <tr>\n      <td>557236</td>\n      <td>1965-01-01</td>\n      <td>-3.194</td>\n      <td>0.120</td>\n      <td>United States</td>\n    </tr>\n    <tr>\n      <td>557237</td>\n      <td>1965-02-01</td>\n      <td>-3.053</td>\n      <td>0.152</td>\n      <td>United States</td>\n    </tr>\n    <tr>\n      <td>557238</td>\n      <td>1965-03-01</td>\n      <td>0.886</td>\n      <td>0.254</td>\n      <td>United States</td>\n    </tr>\n    <tr>\n      <td>557239</td>\n      <td>1965-04-01</td>\n      <td>8.701</td>\n      <td>0.157</td>\n      <td>United States</td>\n    </tr>\n    <tr>\n      <td>557240</td>\n      <td>1965-05-01</td>\n      <td>13.778</td>\n      <td>0.344</td>\n      <td>United States</td>\n    </tr>\n    <tr>\n      <td>...</td>\n      <td>...</td>\n      <td>...</td>\n      <td>...</td>\n      <td>...</td>\n    </tr>\n    <tr>\n      <td>557816</td>\n      <td>2013-05-01</td>\n      <td>14.073</td>\n      <td>0.178</td>\n      <td>United States</td>\n    </tr>\n    <tr>\n      <td>557817</td>\n      <td>2013-06-01</td>\n      <td>20.198</td>\n      <td>0.236</td>\n      <td>United States</td>\n    </tr>\n    <tr>\n      <td>557818</td>\n      <td>2013-07-01</td>\n      <td>22.074</td>\n      <td>0.152</td>\n      <td>United States</td>\n    </tr>\n    <tr>\n      <td>557819</td>\n      <td>2013-08-01</td>\n      <td>21.168</td>\n      <td>0.249</td>\n      <td>United States</td>\n    </tr>\n    <tr>\n      <td>557820</td>\n      <td>2013-09-01</td>\n      <td>18.273</td>\n      <td>1.210</td>\n      <td>United States</td>\n    </tr>\n  </tbody>\n</table>\n<p>585 rows × 4 columns</p>\n</div>"
     },
     "metadata": {},
     "execution_count": 4
    }
   ],
   "source": [
    "us_temps = temps[temps[\"Country\"] == \"United States\"]\n",
    "us_temps = us_temps[us_temps[\"dt\"] >= '1965-01-01']\n",
    "us_temps"
   ]
  },
  {
   "cell_type": "code",
   "execution_count": 9,
   "metadata": {},
   "outputs": [
    {
     "output_type": "execute_result",
     "data": {
      "text/plain": "               dt  AverageTemperature  AverageTemperatureUncertainty  \\\n557236 1965-01-01              -3.194                          0.120   \n557237 1965-02-01              -3.053                          0.152   \n557238 1965-03-01               0.886                          0.254   \n557239 1965-04-01               8.701                          0.157   \n557240 1965-05-01              13.778                          0.344   \n...           ...                 ...                            ...   \n557816 2013-05-01              14.073                          0.178   \n557817 2013-06-01              20.198                          0.236   \n557818 2013-07-01              22.074                          0.152   \n557819 2013-08-01              21.168                          0.249   \n557820 2013-09-01              18.273                          1.210   \n\n              Country  \n557236  United States  \n557237  United States  \n557238  United States  \n557239  United States  \n557240  United States  \n...               ...  \n557816  United States  \n557817  United States  \n557818  United States  \n557819  United States  \n557820  United States  \n\n[585 rows x 4 columns]",
      "text/html": "<div>\n<style scoped>\n    .dataframe tbody tr th:only-of-type {\n        vertical-align: middle;\n    }\n\n    .dataframe tbody tr th {\n        vertical-align: top;\n    }\n\n    .dataframe thead th {\n        text-align: right;\n    }\n</style>\n<table border=\"1\" class=\"dataframe\">\n  <thead>\n    <tr style=\"text-align: right;\">\n      <th></th>\n      <th>dt</th>\n      <th>AverageTemperature</th>\n      <th>AverageTemperatureUncertainty</th>\n      <th>Country</th>\n    </tr>\n  </thead>\n  <tbody>\n    <tr>\n      <td>557236</td>\n      <td>1965-01-01</td>\n      <td>-3.194</td>\n      <td>0.120</td>\n      <td>United States</td>\n    </tr>\n    <tr>\n      <td>557237</td>\n      <td>1965-02-01</td>\n      <td>-3.053</td>\n      <td>0.152</td>\n      <td>United States</td>\n    </tr>\n    <tr>\n      <td>557238</td>\n      <td>1965-03-01</td>\n      <td>0.886</td>\n      <td>0.254</td>\n      <td>United States</td>\n    </tr>\n    <tr>\n      <td>557239</td>\n      <td>1965-04-01</td>\n      <td>8.701</td>\n      <td>0.157</td>\n      <td>United States</td>\n    </tr>\n    <tr>\n      <td>557240</td>\n      <td>1965-05-01</td>\n      <td>13.778</td>\n      <td>0.344</td>\n      <td>United States</td>\n    </tr>\n    <tr>\n      <td>...</td>\n      <td>...</td>\n      <td>...</td>\n      <td>...</td>\n      <td>...</td>\n    </tr>\n    <tr>\n      <td>557816</td>\n      <td>2013-05-01</td>\n      <td>14.073</td>\n      <td>0.178</td>\n      <td>United States</td>\n    </tr>\n    <tr>\n      <td>557817</td>\n      <td>2013-06-01</td>\n      <td>20.198</td>\n      <td>0.236</td>\n      <td>United States</td>\n    </tr>\n    <tr>\n      <td>557818</td>\n      <td>2013-07-01</td>\n      <td>22.074</td>\n      <td>0.152</td>\n      <td>United States</td>\n    </tr>\n    <tr>\n      <td>557819</td>\n      <td>2013-08-01</td>\n      <td>21.168</td>\n      <td>0.249</td>\n      <td>United States</td>\n    </tr>\n    <tr>\n      <td>557820</td>\n      <td>2013-09-01</td>\n      <td>18.273</td>\n      <td>1.210</td>\n      <td>United States</td>\n    </tr>\n  </tbody>\n</table>\n<p>585 rows × 4 columns</p>\n</div>"
     },
     "metadata": {},
     "execution_count": 9
    }
   ],
   "source": [
    "# us_yearly = us_temps.groupby(us_temps['dt'].dt.year)\n",
    "# us_yearly\n",
    "us_temps['dt'] = pd.to_datetime(us_temps['dt'], format=\"%Y-%m-%d\")\n",
    "us_temps"
   ]
  },
  {
   "cell_type": "code",
   "execution_count": 24,
   "metadata": {},
   "outputs": [
    {
     "output_type": "execute_result",
     "data": {
      "text/plain": "      Avg Temp  Year\ndt                  \n1965  8.647667  1965\n1966  8.483000  1966\n1967  8.902000  1967\n1968  8.553250  1968\n1969  8.770833  1969\n1970  8.673000  1970\n1971  8.442500  1971\n1972  8.428083  1972\n1973  8.934667  1973\n1974  8.815917  1974",
      "text/html": "<div>\n<style scoped>\n    .dataframe tbody tr th:only-of-type {\n        vertical-align: middle;\n    }\n\n    .dataframe tbody tr th {\n        vertical-align: top;\n    }\n\n    .dataframe thead th {\n        text-align: right;\n    }\n</style>\n<table border=\"1\" class=\"dataframe\">\n  <thead>\n    <tr style=\"text-align: right;\">\n      <th></th>\n      <th>Avg Temp</th>\n      <th>Year</th>\n    </tr>\n    <tr>\n      <th>dt</th>\n      <th></th>\n      <th></th>\n    </tr>\n  </thead>\n  <tbody>\n    <tr>\n      <td>1965</td>\n      <td>8.647667</td>\n      <td>1965</td>\n    </tr>\n    <tr>\n      <td>1966</td>\n      <td>8.483000</td>\n      <td>1966</td>\n    </tr>\n    <tr>\n      <td>1967</td>\n      <td>8.902000</td>\n      <td>1967</td>\n    </tr>\n    <tr>\n      <td>1968</td>\n      <td>8.553250</td>\n      <td>1968</td>\n    </tr>\n    <tr>\n      <td>1969</td>\n      <td>8.770833</td>\n      <td>1969</td>\n    </tr>\n    <tr>\n      <td>1970</td>\n      <td>8.673000</td>\n      <td>1970</td>\n    </tr>\n    <tr>\n      <td>1971</td>\n      <td>8.442500</td>\n      <td>1971</td>\n    </tr>\n    <tr>\n      <td>1972</td>\n      <td>8.428083</td>\n      <td>1972</td>\n    </tr>\n    <tr>\n      <td>1973</td>\n      <td>8.934667</td>\n      <td>1973</td>\n    </tr>\n    <tr>\n      <td>1974</td>\n      <td>8.815917</td>\n      <td>1974</td>\n    </tr>\n  </tbody>\n</table>\n</div>"
     },
     "metadata": {},
     "execution_count": 24
    }
   ],
   "source": [
    "temporary_df = us_temps.groupby(us_temps['dt'].dt.year)\n",
    "avg_temp = temporary_df[\"AverageTemperature\"].mean()\n",
    "\n",
    "us_yearly = pd.DataFrame({\"Avg Temp\" : avg_temp})\n",
    "us_yearly[\"Year\"] = us_yearly.index\n",
    "us_yearly.head(10)"
   ]
  },
  {
   "cell_type": "code",
   "execution_count": 28,
   "metadata": {},
   "outputs": [
    {
     "output_type": "execute_result",
     "data": {
      "text/plain": "Avg Temp                      float64\nYear                            int64\nThousand Oil Barrels Daily    float64\ndtype: object"
     },
     "metadata": {},
     "execution_count": 28
    }
   ],
   "source": [
    "temp_vs_oil = us_yearly.merge(oil, on=\"Year\")\n",
    "temp_vs_oil.dtypes"
   ]
  },
  {
   "cell_type": "code",
   "execution_count": 29,
   "metadata": {
    "tags": []
   },
   "outputs": [
    {
     "output_type": "stream",
     "name": "stdout",
     "text": "[[1.04438727e+01 2.01400000e+03 1.81084399e+04]]\n"
    }
   ],
   "source": [
    "from statsmodels.tsa.vector_ar.var_model import VAR\n",
    "\n",
    "model = VAR(temp_vs_oil)\n",
    "model_fit = model.fit()\n",
    "# make prediction\n",
    "yhat = model_fit.forecast(model_fit.y, steps=1)\n",
    "print(yhat)"
   ]
  },
  {
   "cell_type": "code",
   "execution_count": null,
   "metadata": {},
   "outputs": [],
   "source": []
  }
 ]
}