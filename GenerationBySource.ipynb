{
 "metadata": {
  "language_info": {
   "codemirror_mode": {
    "name": "ipython",
    "version": 3
   },
   "file_extension": ".py",
   "mimetype": "text/x-python",
   "name": "python",
   "nbconvert_exporter": "python",
   "pygments_lexer": "ipython3",
   "version": "3.7.4-final"
  },
  "orig_nbformat": 2,
  "kernelspec": {
   "name": "python_defaultSpec_1597501751593",
   "display_name": "Python 3.7.4 64-bit ('base': conda)"
  }
 },
 "nbformat": 4,
 "nbformat_minor": 2,
 "cells": [
  {
   "cell_type": "code",
   "execution_count": 1,
   "metadata": {},
   "outputs": [],
   "source": [
    "import pandas as pd\n",
    "import numpy as np\n",
    "import matplotlib.pyplot as plt\n",
    "import matplotlib.cm as cm\n",
    "import seaborn as sns\n",
    "from RenewablesExploration import GenBySource_df\n",
    "import plotly.graph_objects as px\n",
    "import plotly.express as pex"
   ]
  },
  {
   "cell_type": "code",
   "execution_count": 2,
   "metadata": {},
   "outputs": [
    {
     "output_type": "execute_result",
     "data": {
      "text/plain": "                Country  Wind (2018)  Solar (2018)  Other renewables* (2018)  \\\n1                Canada    33.186392      3.854141                 10.038447   \n2                Mexico    13.088611      3.180000                  6.994908   \n3                    US   275.403827     94.308081                 81.912854   \n4   Total North America   321.678830    101.342222                 98.946209   \n6             Argentina     1.412743      0.108130                  2.492287   \n..                  ...          ...           ...                       ...   \n82             Thailand     1.948054      4.988817                 10.864936   \n83              Vietnam     0.310233      0.113493                  0.076454   \n84   Other Asia Pacific     0.382624      0.527867                  0.167890   \n85   Total Asia Pacific   463.710542    313.219325                208.608520   \n86          Total World  1270.164880    582.754345                615.038237   \n\n    Total (2018)  Wind (2019)  Solar (2019)  Other renewables* (2019)  \\\n1      47.078981    34.172116      4.314705                 10.808990   \n2      23.263519    17.598450     12.439314                  7.751057   \n3     451.624762   303.102049    108.358586                 78.339969   \n4     521.967262   354.872616    125.112605                 96.900016   \n6       4.013160     4.995966      0.799698                  2.397314   \n..           ...          ...           ...                       ...   \n82     17.801807     2.661692      5.014035                 13.727945   \n83      0.500180     0.490908      4.180800                  0.076454   \n84      1.078381     0.549048      0.696738                  0.167890   \n85    985.538387   514.259616    393.921841                238.022873   \n86   2467.957462  1429.619982    724.086506                651.811211   \n\n    Total (2019)  Wind Growth Rate (2019)  Solar Growth Rate (2019)  \\\n1      49.295812                 0.029703                  0.119498   \n2      37.788821                 0.344562                  2.911734   \n3     489.800605                 0.100573                  0.148985   \n4     576.885238                 0.103189                  0.234556   \n6       8.192978                 2.536359                  6.395708   \n..           ...                      ...                       ...   \n82     21.403671                 0.366334                  0.005055   \n83      4.748162                 0.582383                 35.837442   \n84      1.413676                 0.434952                  0.319912   \n85   1146.204330                 0.109010                  0.257655   \n86   2805.517699                 0.125539                  0.242524   \n\n    Other renewables* Growth Rate (2019)  Total Growth Rate (2019)  \n1                               0.076759                  0.047087  \n2                               0.108100                  0.624381  \n3                              -0.043618                  0.084530  \n4                              -0.020680                  0.105213  \n6                              -0.038107                  1.041528  \n..                                   ...                       ...  \n82                              0.263509                  0.202331  \n83                              0.000000                  8.492899  \n84                              0.000000                  0.310924  \n85                              0.141003                  0.163024  \n86                              0.059790                  0.136777  \n\n[80 rows x 13 columns]",
      "text/html": "<div>\n<style scoped>\n    .dataframe tbody tr th:only-of-type {\n        vertical-align: middle;\n    }\n\n    .dataframe tbody tr th {\n        vertical-align: top;\n    }\n\n    .dataframe thead th {\n        text-align: right;\n    }\n</style>\n<table border=\"1\" class=\"dataframe\">\n  <thead>\n    <tr style=\"text-align: right;\">\n      <th></th>\n      <th>Country</th>\n      <th>Wind (2018)</th>\n      <th>Solar (2018)</th>\n      <th>Other renewables* (2018)</th>\n      <th>Total (2018)</th>\n      <th>Wind (2019)</th>\n      <th>Solar (2019)</th>\n      <th>Other renewables* (2019)</th>\n      <th>Total (2019)</th>\n      <th>Wind Growth Rate (2019)</th>\n      <th>Solar Growth Rate (2019)</th>\n      <th>Other renewables* Growth Rate (2019)</th>\n      <th>Total Growth Rate (2019)</th>\n    </tr>\n  </thead>\n  <tbody>\n    <tr>\n      <th>1</th>\n      <td>Canada</td>\n      <td>33.186392</td>\n      <td>3.854141</td>\n      <td>10.038447</td>\n      <td>47.078981</td>\n      <td>34.172116</td>\n      <td>4.314705</td>\n      <td>10.808990</td>\n      <td>49.295812</td>\n      <td>0.029703</td>\n      <td>0.119498</td>\n      <td>0.076759</td>\n      <td>0.047087</td>\n    </tr>\n    <tr>\n      <th>2</th>\n      <td>Mexico</td>\n      <td>13.088611</td>\n      <td>3.180000</td>\n      <td>6.994908</td>\n      <td>23.263519</td>\n      <td>17.598450</td>\n      <td>12.439314</td>\n      <td>7.751057</td>\n      <td>37.788821</td>\n      <td>0.344562</td>\n      <td>2.911734</td>\n      <td>0.108100</td>\n      <td>0.624381</td>\n    </tr>\n    <tr>\n      <th>3</th>\n      <td>US</td>\n      <td>275.403827</td>\n      <td>94.308081</td>\n      <td>81.912854</td>\n      <td>451.624762</td>\n      <td>303.102049</td>\n      <td>108.358586</td>\n      <td>78.339969</td>\n      <td>489.800605</td>\n      <td>0.100573</td>\n      <td>0.148985</td>\n      <td>-0.043618</td>\n      <td>0.084530</td>\n    </tr>\n    <tr>\n      <th>4</th>\n      <td>Total North America</td>\n      <td>321.678830</td>\n      <td>101.342222</td>\n      <td>98.946209</td>\n      <td>521.967262</td>\n      <td>354.872616</td>\n      <td>125.112605</td>\n      <td>96.900016</td>\n      <td>576.885238</td>\n      <td>0.103189</td>\n      <td>0.234556</td>\n      <td>-0.020680</td>\n      <td>0.105213</td>\n    </tr>\n    <tr>\n      <th>6</th>\n      <td>Argentina</td>\n      <td>1.412743</td>\n      <td>0.108130</td>\n      <td>2.492287</td>\n      <td>4.013160</td>\n      <td>4.995966</td>\n      <td>0.799698</td>\n      <td>2.397314</td>\n      <td>8.192978</td>\n      <td>2.536359</td>\n      <td>6.395708</td>\n      <td>-0.038107</td>\n      <td>1.041528</td>\n    </tr>\n    <tr>\n      <th>...</th>\n      <td>...</td>\n      <td>...</td>\n      <td>...</td>\n      <td>...</td>\n      <td>...</td>\n      <td>...</td>\n      <td>...</td>\n      <td>...</td>\n      <td>...</td>\n      <td>...</td>\n      <td>...</td>\n      <td>...</td>\n      <td>...</td>\n    </tr>\n    <tr>\n      <th>82</th>\n      <td>Thailand</td>\n      <td>1.948054</td>\n      <td>4.988817</td>\n      <td>10.864936</td>\n      <td>17.801807</td>\n      <td>2.661692</td>\n      <td>5.014035</td>\n      <td>13.727945</td>\n      <td>21.403671</td>\n      <td>0.366334</td>\n      <td>0.005055</td>\n      <td>0.263509</td>\n      <td>0.202331</td>\n    </tr>\n    <tr>\n      <th>83</th>\n      <td>Vietnam</td>\n      <td>0.310233</td>\n      <td>0.113493</td>\n      <td>0.076454</td>\n      <td>0.500180</td>\n      <td>0.490908</td>\n      <td>4.180800</td>\n      <td>0.076454</td>\n      <td>4.748162</td>\n      <td>0.582383</td>\n      <td>35.837442</td>\n      <td>0.000000</td>\n      <td>8.492899</td>\n    </tr>\n    <tr>\n      <th>84</th>\n      <td>Other Asia Pacific</td>\n      <td>0.382624</td>\n      <td>0.527867</td>\n      <td>0.167890</td>\n      <td>1.078381</td>\n      <td>0.549048</td>\n      <td>0.696738</td>\n      <td>0.167890</td>\n      <td>1.413676</td>\n      <td>0.434952</td>\n      <td>0.319912</td>\n      <td>0.000000</td>\n      <td>0.310924</td>\n    </tr>\n    <tr>\n      <th>85</th>\n      <td>Total Asia Pacific</td>\n      <td>463.710542</td>\n      <td>313.219325</td>\n      <td>208.608520</td>\n      <td>985.538387</td>\n      <td>514.259616</td>\n      <td>393.921841</td>\n      <td>238.022873</td>\n      <td>1146.204330</td>\n      <td>0.109010</td>\n      <td>0.257655</td>\n      <td>0.141003</td>\n      <td>0.163024</td>\n    </tr>\n    <tr>\n      <th>86</th>\n      <td>Total World</td>\n      <td>1270.164880</td>\n      <td>582.754345</td>\n      <td>615.038237</td>\n      <td>2467.957462</td>\n      <td>1429.619982</td>\n      <td>724.086506</td>\n      <td>651.811211</td>\n      <td>2805.517699</td>\n      <td>0.125539</td>\n      <td>0.242524</td>\n      <td>0.059790</td>\n      <td>0.136777</td>\n    </tr>\n  </tbody>\n</table>\n<p>80 rows × 13 columns</p>\n</div>"
     },
     "metadata": {},
     "execution_count": 2
    }
   ],
   "source": [
    "GenBySource_df"
   ]
  },
  {
   "cell_type": "code",
   "execution_count": 3,
   "metadata": {},
   "outputs": [],
   "source": [
    "GenBySource_df=GenBySource_df.set_index(GenBySource_df[\"Country\"]).drop([\"Total World\"])"
   ]
  },
  {
   "cell_type": "code",
   "execution_count": 4,
   "metadata": {},
   "outputs": [
    {
     "output_type": "execute_result",
     "data": {
      "text/plain": "                                           Country  Wind (2018)  Solar (2018)  \\\nCountry                                                                         \nTotal North America            Total North America   321.678830    101.342222   \nTotal S. & Cent. America  Total S. & Cent. America    65.751969     12.739130   \nTotal Europe                          Total Europe   402.775107    138.556570   \nTotal CIS                                Total CIS     0.828475      0.944421   \nTotal Middle East                Total Middle East     1.132161      6.102455   \nTotal Africa                          Total Africa    14.287795      9.850223   \nTotal Asia Pacific              Total Asia Pacific   463.710542    313.219325   \n\n                          Other renewables* (2018)  Total (2018)  Wind (2019)  \\\nCountry                                                                         \nTotal North America                      98.946209    521.967262   354.872616   \nTotal S. & Cent. America                 83.424424    161.915522    79.158243   \nTotal Europe                            215.007939    756.339616   461.587610   \nTotal CIS                                 0.735200      2.508096     1.077797   \nTotal Middle East                         0.256412      7.491027     1.156046   \nTotal Africa                              8.059533     32.197552    17.508053   \nTotal Asia Pacific                      208.608520    985.538387   514.259616   \n\n                          Solar (2019)  Other renewables* (2019)  \\\nCountry                                                            \nTotal North America         125.112605                 96.900016   \nTotal S. & Cent. America     17.617848                 87.372191   \nTotal Europe                154.663459                220.335262   \nTotal CIS                     1.471197                  0.740209   \nTotal Middle East            11.921579                  0.256412   \nTotal Africa                 19.377978                  8.184247   \nTotal Asia Pacific          393.921841                238.022873   \n\n                          Total (2019)  Wind Growth Rate (2019)  \\\nCountry                                                           \nTotal North America         576.885238                 0.103189   \nTotal S. & Cent. America    184.148281                 0.203892   \nTotal Europe                836.586331                 0.146018   \nTotal CIS                     3.289203                 0.300941   \nTotal Middle East            13.334037                 0.021098   \nTotal Africa                 45.070278                 0.225385   \nTotal Asia Pacific         1146.204330                 0.109010   \n\n                          Solar Growth Rate (2019)  \\\nCountry                                              \nTotal North America                       0.234556   \nTotal S. & Cent. America                  0.382971   \nTotal Europe                              0.116248   \nTotal CIS                                 0.557777   \nTotal Middle East                         0.953571   \nTotal Africa                              0.967263   \nTotal Asia Pacific                        0.257655   \n\n                          Other renewables* Growth Rate (2019)  \\\nCountry                                                          \nTotal North America                                  -0.020680   \nTotal S. & Cent. America                              0.047321   \nTotal Europe                                          0.024777   \nTotal CIS                                             0.006813   \nTotal Middle East                                     0.000000   \nTotal Africa                                          0.015474   \nTotal Asia Pacific                                    0.141003   \n\n                          Total Growth Rate (2019)  \nCountry                                             \nTotal North America                       0.105213  \nTotal S. & Cent. America                  0.137311  \nTotal Europe                              0.106099  \nTotal CIS                                 0.311434  \nTotal Middle East                         0.780001  \nTotal Africa                              0.399804  \nTotal Asia Pacific                        0.163024  ",
      "text/html": "<div>\n<style scoped>\n    .dataframe tbody tr th:only-of-type {\n        vertical-align: middle;\n    }\n\n    .dataframe tbody tr th {\n        vertical-align: top;\n    }\n\n    .dataframe thead th {\n        text-align: right;\n    }\n</style>\n<table border=\"1\" class=\"dataframe\">\n  <thead>\n    <tr style=\"text-align: right;\">\n      <th></th>\n      <th>Country</th>\n      <th>Wind (2018)</th>\n      <th>Solar (2018)</th>\n      <th>Other renewables* (2018)</th>\n      <th>Total (2018)</th>\n      <th>Wind (2019)</th>\n      <th>Solar (2019)</th>\n      <th>Other renewables* (2019)</th>\n      <th>Total (2019)</th>\n      <th>Wind Growth Rate (2019)</th>\n      <th>Solar Growth Rate (2019)</th>\n      <th>Other renewables* Growth Rate (2019)</th>\n      <th>Total Growth Rate (2019)</th>\n    </tr>\n    <tr>\n      <th>Country</th>\n      <th></th>\n      <th></th>\n      <th></th>\n      <th></th>\n      <th></th>\n      <th></th>\n      <th></th>\n      <th></th>\n      <th></th>\n      <th></th>\n      <th></th>\n      <th></th>\n      <th></th>\n    </tr>\n  </thead>\n  <tbody>\n    <tr>\n      <th>Total North America</th>\n      <td>Total North America</td>\n      <td>321.678830</td>\n      <td>101.342222</td>\n      <td>98.946209</td>\n      <td>521.967262</td>\n      <td>354.872616</td>\n      <td>125.112605</td>\n      <td>96.900016</td>\n      <td>576.885238</td>\n      <td>0.103189</td>\n      <td>0.234556</td>\n      <td>-0.020680</td>\n      <td>0.105213</td>\n    </tr>\n    <tr>\n      <th>Total S. &amp; Cent. America</th>\n      <td>Total S. &amp; Cent. America</td>\n      <td>65.751969</td>\n      <td>12.739130</td>\n      <td>83.424424</td>\n      <td>161.915522</td>\n      <td>79.158243</td>\n      <td>17.617848</td>\n      <td>87.372191</td>\n      <td>184.148281</td>\n      <td>0.203892</td>\n      <td>0.382971</td>\n      <td>0.047321</td>\n      <td>0.137311</td>\n    </tr>\n    <tr>\n      <th>Total Europe</th>\n      <td>Total Europe</td>\n      <td>402.775107</td>\n      <td>138.556570</td>\n      <td>215.007939</td>\n      <td>756.339616</td>\n      <td>461.587610</td>\n      <td>154.663459</td>\n      <td>220.335262</td>\n      <td>836.586331</td>\n      <td>0.146018</td>\n      <td>0.116248</td>\n      <td>0.024777</td>\n      <td>0.106099</td>\n    </tr>\n    <tr>\n      <th>Total CIS</th>\n      <td>Total CIS</td>\n      <td>0.828475</td>\n      <td>0.944421</td>\n      <td>0.735200</td>\n      <td>2.508096</td>\n      <td>1.077797</td>\n      <td>1.471197</td>\n      <td>0.740209</td>\n      <td>3.289203</td>\n      <td>0.300941</td>\n      <td>0.557777</td>\n      <td>0.006813</td>\n      <td>0.311434</td>\n    </tr>\n    <tr>\n      <th>Total Middle East</th>\n      <td>Total Middle East</td>\n      <td>1.132161</td>\n      <td>6.102455</td>\n      <td>0.256412</td>\n      <td>7.491027</td>\n      <td>1.156046</td>\n      <td>11.921579</td>\n      <td>0.256412</td>\n      <td>13.334037</td>\n      <td>0.021098</td>\n      <td>0.953571</td>\n      <td>0.000000</td>\n      <td>0.780001</td>\n    </tr>\n    <tr>\n      <th>Total Africa</th>\n      <td>Total Africa</td>\n      <td>14.287795</td>\n      <td>9.850223</td>\n      <td>8.059533</td>\n      <td>32.197552</td>\n      <td>17.508053</td>\n      <td>19.377978</td>\n      <td>8.184247</td>\n      <td>45.070278</td>\n      <td>0.225385</td>\n      <td>0.967263</td>\n      <td>0.015474</td>\n      <td>0.399804</td>\n    </tr>\n    <tr>\n      <th>Total Asia Pacific</th>\n      <td>Total Asia Pacific</td>\n      <td>463.710542</td>\n      <td>313.219325</td>\n      <td>208.608520</td>\n      <td>985.538387</td>\n      <td>514.259616</td>\n      <td>393.921841</td>\n      <td>238.022873</td>\n      <td>1146.204330</td>\n      <td>0.109010</td>\n      <td>0.257655</td>\n      <td>0.141003</td>\n      <td>0.163024</td>\n    </tr>\n  </tbody>\n</table>\n</div>"
     },
     "metadata": {},
     "execution_count": 4
    }
   ],
   "source": [
    "RegionalGenerationDF = GenBySource_df[GenBySource_df.index.str.startswith(\"Total\")]\n",
    "RegionalGenerationDF"
   ]
  },
  {
   "cell_type": "code",
   "execution_count": 5,
   "metadata": {},
   "outputs": [],
   "source": [
    "CountriesOnly=GenBySource_df.set_index(GenBySource_df[\"Country\"]).drop([\"Total North America\", \"Total S. & Cent. America\",\"Total Europe\",\"Total CIS\",\"Total Middle East\",\"Total Africa\",\"Total Asia Pacific\"])"
   ]
  },
  {
   "cell_type": "code",
   "execution_count": 6,
   "metadata": {},
   "outputs": [],
   "source": [
    "Yr2019=CountriesOnly[[\"Wind (2019)\", \"Solar (2019)\", \"Other renewables* (2019)\", \"Total (2019)\"]]"
   ]
  },
  {
   "cell_type": "code",
   "execution_count": 7,
   "metadata": {},
   "outputs": [
    {
     "output_type": "execute_result",
     "data": {
      "text/plain": "                    Wind (2019)  Solar (2019)  Other renewables* (2019)  \\\nCountry                                                                   \nCanada                34.172116      4.314705                 10.808990   \nMexico                17.598450     12.439314                  7.751057   \nUS                   303.102049    108.358586                 78.339969   \nArgentina              4.995966      0.799698                  2.397314   \nBrazil                55.833200      5.562711                 56.254366   \n...                         ...           ...                       ...   \nSri Lanka              0.366810      0.368745                  0.090876   \nTaiwan                 1.871318      4.144092                  1.982754   \nThailand               2.661692      5.014035                 13.727945   \nVietnam                0.490908      4.180800                  0.076454   \nOther Asia Pacific     0.549048      0.696738                  0.167890   \n\n                    Total (2019)  \nCountry                           \nCanada                 49.295812  \nMexico                 37.788821  \nUS                    489.800605  \nArgentina               8.192978  \nBrazil                117.650277  \n...                          ...  \nSri Lanka               0.826431  \nTaiwan                  7.998164  \nThailand               21.403671  \nVietnam                 4.748162  \nOther Asia Pacific      1.413676  \n\n[72 rows x 4 columns]",
      "text/html": "<div>\n<style scoped>\n    .dataframe tbody tr th:only-of-type {\n        vertical-align: middle;\n    }\n\n    .dataframe tbody tr th {\n        vertical-align: top;\n    }\n\n    .dataframe thead th {\n        text-align: right;\n    }\n</style>\n<table border=\"1\" class=\"dataframe\">\n  <thead>\n    <tr style=\"text-align: right;\">\n      <th></th>\n      <th>Wind (2019)</th>\n      <th>Solar (2019)</th>\n      <th>Other renewables* (2019)</th>\n      <th>Total (2019)</th>\n    </tr>\n    <tr>\n      <th>Country</th>\n      <th></th>\n      <th></th>\n      <th></th>\n      <th></th>\n    </tr>\n  </thead>\n  <tbody>\n    <tr>\n      <th>Canada</th>\n      <td>34.172116</td>\n      <td>4.314705</td>\n      <td>10.808990</td>\n      <td>49.295812</td>\n    </tr>\n    <tr>\n      <th>Mexico</th>\n      <td>17.598450</td>\n      <td>12.439314</td>\n      <td>7.751057</td>\n      <td>37.788821</td>\n    </tr>\n    <tr>\n      <th>US</th>\n      <td>303.102049</td>\n      <td>108.358586</td>\n      <td>78.339969</td>\n      <td>489.800605</td>\n    </tr>\n    <tr>\n      <th>Argentina</th>\n      <td>4.995966</td>\n      <td>0.799698</td>\n      <td>2.397314</td>\n      <td>8.192978</td>\n    </tr>\n    <tr>\n      <th>Brazil</th>\n      <td>55.833200</td>\n      <td>5.562711</td>\n      <td>56.254366</td>\n      <td>117.650277</td>\n    </tr>\n    <tr>\n      <th>...</th>\n      <td>...</td>\n      <td>...</td>\n      <td>...</td>\n      <td>...</td>\n    </tr>\n    <tr>\n      <th>Sri Lanka</th>\n      <td>0.366810</td>\n      <td>0.368745</td>\n      <td>0.090876</td>\n      <td>0.826431</td>\n    </tr>\n    <tr>\n      <th>Taiwan</th>\n      <td>1.871318</td>\n      <td>4.144092</td>\n      <td>1.982754</td>\n      <td>7.998164</td>\n    </tr>\n    <tr>\n      <th>Thailand</th>\n      <td>2.661692</td>\n      <td>5.014035</td>\n      <td>13.727945</td>\n      <td>21.403671</td>\n    </tr>\n    <tr>\n      <th>Vietnam</th>\n      <td>0.490908</td>\n      <td>4.180800</td>\n      <td>0.076454</td>\n      <td>4.748162</td>\n    </tr>\n    <tr>\n      <th>Other Asia Pacific</th>\n      <td>0.549048</td>\n      <td>0.696738</td>\n      <td>0.167890</td>\n      <td>1.413676</td>\n    </tr>\n  </tbody>\n</table>\n<p>72 rows × 4 columns</p>\n</div>"
     },
     "metadata": {},
     "execution_count": 7
    }
   ],
   "source": [
    "Yr2019"
   ]
  },
  {
   "cell_type": "code",
   "execution_count": 8,
   "metadata": {},
   "outputs": [],
   "source": [
    "x=Yr2019['Wind (2019)'].values\n",
    "y=Yr2019[\"Solar (2019)\"].values"
   ]
  },
  {
   "cell_type": "code",
   "execution_count": 9,
   "metadata": {},
   "outputs": [
    {
     "output_type": "display_data",
     "data": {
      "application/vnd.plotly.v1+json": {
       "config": {
        "plotlyServerURL": "https://plotly.com"
       },
       "data": [
        {
         "hovertemplate": "<b>Solar</b>: %{y}<br><b>Wind</b>: %{x}<br>",
         "legendgroup": "Canada",
         "marker": {
          "color": "#636efa",
          "size": [
           49.295811656651615
          ],
          "sizemode": "area",
          "sizeref": 0.20342491176470592,
          "symbol": "circle"
         },
         "mode": "markers",
         "name": "Canada",
         "orientation": "v",
         "showlegend": true,
         "type": "scatter",
         "x": [
          34.17211630454893
         ],
         "xaxis": "x",
         "y": [
          4.314705050505051
         ],
         "yaxis": "y"
        },
        {
         "hovertemplate": "<b>Solar</b>: %{y}<br><b>Wind</b>: %{x}<br>",
         "legendgroup": "Mexico",
         "marker": {
          "color": "#EF553B",
          "size": [
           37.78882120789369
          ],
          "sizemode": "area",
          "sizeref": 0.20342491176470592,
          "symbol": "circle"
         },
         "mode": "markers",
         "name": "Mexico",
         "orientation": "v",
         "showlegend": true,
         "type": "scatter",
         "x": [
          17.598450412231077
         ],
         "xaxis": "x",
         "y": [
          12.43931414141414
         ],
         "yaxis": "y"
        },
        {
         "hovertemplate": "<b>Solar</b>: %{y}<br><b>Wind</b>: %{x}<br>",
         "legendgroup": "US",
         "marker": {
          "color": "#00cc96",
          "size": [
           489.8006048272196
          ],
          "sizemode": "area",
          "sizeref": 0.20342491176470592,
          "symbol": "circle"
         },
         "mode": "markers",
         "name": "US",
         "orientation": "v",
         "showlegend": true,
         "type": "scatter",
         "x": [
          303.10204949494954
         ],
         "xaxis": "x",
         "y": [
          108.35858585858587
         ],
         "yaxis": "y"
        },
        {
         "hovertemplate": "<b>Solar</b>: %{y}<br><b>Wind</b>: %{x}<br>",
         "legendgroup": "Argentina",
         "marker": {
          "color": "#ab63fa",
          "size": [
           8.19297833926771
          ],
          "sizemode": "area",
          "sizeref": 0.20342491176470592,
          "symbol": "circle"
         },
         "mode": "markers",
         "name": "Argentina",
         "orientation": "v",
         "showlegend": true,
         "type": "scatter",
         "x": [
          4.995966423999997
         ],
         "xaxis": "x",
         "y": [
          0.7996979130000003
         ],
         "yaxis": "y"
        },
        {
         "hovertemplate": "<b>Solar</b>: %{y}<br><b>Wind</b>: %{x}<br>",
         "legendgroup": "Brazil",
         "marker": {
          "color": "#FFA15A",
          "size": [
           117.650277296403
          ],
          "sizemode": "area",
          "sizeref": 0.20342491176470592,
          "symbol": "circle"
         },
         "mode": "markers",
         "name": "Brazil",
         "orientation": "v",
         "showlegend": true,
         "type": "scatter",
         "x": [
          55.83320041123813
         ],
         "xaxis": "x",
         "y": [
          5.562710640218685
         ],
         "yaxis": "y"
        },
        {
         "hovertemplate": "<b>Solar</b>: %{y}<br><b>Wind</b>: %{x}<br>",
         "legendgroup": "Chile",
         "marker": {
          "color": "#19d3f3",
          "size": [
           21.592622893363913
          ],
          "sizemode": "area",
          "sizeref": 0.20342491176470592,
          "symbol": "circle"
         },
         "mode": "markers",
         "name": "Chile",
         "orientation": "v",
         "showlegend": true,
         "type": "scatter",
         "x": [
          5.30019271104636
         ],
         "xaxis": "x",
         "y": [
          6.300226398623749
         ],
         "yaxis": "y"
        },
        {
         "hovertemplate": "<b>Solar</b>: %{y}<br><b>Wind</b>: %{x}<br>",
         "legendgroup": "Colombia",
         "marker": {
          "color": "#FF6692",
          "size": [
           2.2301341838870727
          ],
          "sizemode": "area",
          "sizeref": 0.20342491176470592,
          "symbol": "circle"
         },
         "mode": "markers",
         "name": "Colombia",
         "orientation": "v",
         "showlegend": true,
         "type": "scatter",
         "x": [
          0.05953683606
         ],
         "xaxis": "x",
         "y": [
          0.12306651466000001
         ],
         "yaxis": "y"
        },
        {
         "hovertemplate": "<b>Solar</b>: %{y}<br><b>Wind</b>: %{x}<br>",
         "legendgroup": "Ecuador",
         "marker": {
          "color": "#B6E880",
          "size": [
           0.706702665103
          ],
          "sizemode": "area",
          "sizeref": 0.20342491176470592,
          "symbol": "circle"
         },
         "mode": "markers",
         "name": "Ecuador",
         "orientation": "v",
         "showlegend": true,
         "type": "scatter",
         "x": [
          0.08552693725000009
         ],
         "xaxis": "x",
         "y": [
          0.1664522795829998
         ],
         "yaxis": "y"
        },
        {
         "hovertemplate": "<b>Solar</b>: %{y}<br><b>Wind</b>: %{x}<br>",
         "legendgroup": "Peru",
         "marker": {
          "color": "#FF97FF",
          "size": [
           4.0220689778629835
          ],
          "sizemode": "area",
          "sizeref": 0.20342491176470592,
          "symbol": "circle"
         },
         "mode": "markers",
         "name": "Peru",
         "orientation": "v",
         "showlegend": true,
         "type": "scatter",
         "x": [
          1.6461619703125003
         ],
         "xaxis": "x",
         "y": [
          0.7617257604775
         ],
         "yaxis": "y"
        },
        {
         "hovertemplate": "<b>Solar</b>: %{y}<br><b>Wind</b>: %{x}<br>",
         "legendgroup": "Trinidad & Tobago",
         "marker": {
          "color": "#FECB52",
          "size": [
           0.004669990925118327
          ],
          "sizemode": "area",
          "sizeref": 0.20342491176470592,
          "symbol": "circle"
         },
         "mode": "markers",
         "name": "Trinidad & Tobago",
         "orientation": "v",
         "showlegend": true,
         "type": "scatter",
         "x": [
          0
         ],
         "xaxis": "x",
         "y": [
          0.004669990925118327
         ],
         "yaxis": "y"
        },
        {
         "hovertemplate": "<b>Solar</b>: %{y}<br><b>Wind</b>: %{x}<br>",
         "legendgroup": "Venezuela",
         "marker": {
          "color": "#636efa",
          "size": [
           0.15969844863913327
          ],
          "sizemode": "area",
          "sizeref": 0.20342491176470592,
          "symbol": "circle"
         },
         "mode": "markers",
         "name": "Venezuela",
         "orientation": "v",
         "showlegend": true,
         "type": "scatter",
         "x": [
          0.14786666341463414
         ],
         "xaxis": "x",
         "y": [
          0.011831785224499115
         ],
         "yaxis": "y"
        },
        {
         "hovertemplate": "<b>Solar</b>: %{y}<br><b>Wind</b>: %{x}<br>",
         "legendgroup": "Other S. & Cent. America",
         "marker": {
          "color": "#EF553B",
          "size": [
           29.589128506399387
          ],
          "sizemode": "area",
          "sizeref": 0.20342491176470592,
          "symbol": "circle"
         },
         "mode": "markers",
         "name": "Other S. & Cent. America",
         "orientation": "v",
         "showlegend": true,
         "type": "scatter",
         "x": [
          11.08979066877184
         ],
         "xaxis": "x",
         "y": [
          3.887466248373049
         ],
         "yaxis": "y"
        },
        {
         "hovertemplate": "<b>Solar</b>: %{y}<br><b>Wind</b>: %{x}<br>",
         "legendgroup": "Austria",
         "marker": {
          "color": "#00cc96",
          "size": [
           13.573681091833
          ],
          "sizemode": "area",
          "sizeref": 0.20342491176470592,
          "symbol": "circle"
         },
         "mode": "markers",
         "name": "Austria",
         "orientation": "v",
         "showlegend": true,
         "type": "scatter",
         "x": [
          7.435472714
         ],
         "xaxis": "x",
         "y": [
          1.351575863
         ],
         "yaxis": "y"
        },
        {
         "hovertemplate": "<b>Solar</b>: %{y}<br><b>Wind</b>: %{x}<br>",
         "legendgroup": "Belgium",
         "marker": {
          "color": "#ab63fa",
          "size": [
           18.60598244515918
          ],
          "sizemode": "area",
          "sizeref": 0.20342491176470592,
          "symbol": "circle"
         },
         "mode": "markers",
         "name": "Belgium",
         "orientation": "v",
         "showlegend": true,
         "type": "scatter",
         "x": [
          9.532237328469753
         ],
         "xaxis": "x",
         "y": [
          3.9466412478592248
         ],
         "yaxis": "y"
        },
        {
         "hovertemplate": "<b>Solar</b>: %{y}<br><b>Wind</b>: %{x}<br>",
         "legendgroup": "Czech Republic",
         "marker": {
          "color": "#FFA15A",
          "size": [
           7.906700000000001
          ],
          "sizemode": "area",
          "sizeref": 0.20342491176470592,
          "symbol": "circle"
         },
         "mode": "markers",
         "name": "Czech Republic",
         "orientation": "v",
         "showlegend": true,
         "type": "scatter",
         "x": [
          0.7000000000000001
         ],
         "xaxis": "x",
         "y": [
          2.2819000000000003
         ],
         "yaxis": "y"
        },
        {
         "hovertemplate": "<b>Solar</b>: %{y}<br><b>Wind</b>: %{x}<br>",
         "legendgroup": "Finland",
         "marker": {
          "color": "#19d3f3",
          "size": [
           18.3585
          ],
          "sizemode": "area",
          "sizeref": 0.20342491176470592,
          "symbol": "circle"
         },
         "mode": "markers",
         "name": "Finland",
         "orientation": "v",
         "showlegend": true,
         "type": "scatter",
         "x": [
          5.985399999999999
         ],
         "xaxis": "x",
         "y": [
          0.1781
         ],
         "yaxis": "y"
        },
        {
         "hovertemplate": "<b>Solar</b>: %{y}<br><b>Wind</b>: %{x}<br>",
         "legendgroup": "France",
         "marker": {
          "color": "#FF6692",
          "size": [
           54.90613168059909
          ],
          "sizemode": "area",
          "sizeref": 0.20342491176470592,
          "symbol": "circle"
         },
         "mode": "markers",
         "name": "France",
         "orientation": "v",
         "showlegend": true,
         "type": "scatter",
         "x": [
          34.48014277777778
         ],
         "xaxis": "x",
         "y": [
          11.729274343434342
         ],
         "yaxis": "y"
        },
        {
         "hovertemplate": "<b>Solar</b>: %{y}<br><b>Wind</b>: %{x}<br>",
         "legendgroup": "Germany",
         "marker": {
          "color": "#B6E880",
          "size": [
           224.101
          ],
          "sizemode": "area",
          "sizeref": 0.20342491176470592,
          "symbol": "circle"
         },
         "mode": "markers",
         "name": "Germany",
         "orientation": "v",
         "showlegend": true,
         "type": "scatter",
         "x": [
          125.97500000000001
         ],
         "xaxis": "x",
         "y": [
          47.517
         ],
         "yaxis": "y"
        },
        {
         "hovertemplate": "<b>Solar</b>: %{y}<br><b>Wind</b>: %{x}<br>",
         "legendgroup": "Greece",
         "marker": {
          "color": "#FF97FF",
          "size": [
           11.559133422975211
          ],
          "sizemode": "area",
          "sizeref": 0.20342491176470592,
          "symbol": "circle"
         },
         "mode": "markers",
         "name": "Greece",
         "orientation": "v",
         "showlegend": true,
         "type": "scatter",
         "x": [
          7.2783292278993725
         ],
         "xaxis": "x",
         "y": [
          3.9597310455993417
         ],
         "yaxis": "y"
        },
        {
         "hovertemplate": "<b>Solar</b>: %{y}<br><b>Wind</b>: %{x}<br>",
         "legendgroup": "Hungary",
         "marker": {
          "color": "#FECB52",
          "size": [
           4.256
          ],
          "sizemode": "area",
          "sizeref": 0.20342491176470592,
          "symbol": "circle"
         },
         "mode": "markers",
         "name": "Hungary",
         "orientation": "v",
         "showlegend": true,
         "type": "scatter",
         "x": [
          0.726
         ],
         "xaxis": "x",
         "y": [
          1.3840000000000001
         ],
         "yaxis": "y"
        },
        {
         "hovertemplate": "<b>Solar</b>: %{y}<br><b>Wind</b>: %{x}<br>",
         "legendgroup": "Italy",
         "marker": {
          "color": "#636efa",
          "size": [
           67.622
          ],
          "sizemode": "area",
          "sizeref": 0.20342491176470592,
          "symbol": "circle"
         },
         "mode": "markers",
         "name": "Italy",
         "orientation": "v",
         "showlegend": true,
         "type": "scatter",
         "x": [
          20.063
         ],
         "xaxis": "x",
         "y": [
          24.326
         ],
         "yaxis": "y"
        },
        {
         "hovertemplate": "<b>Solar</b>: %{y}<br><b>Wind</b>: %{x}<br>",
         "legendgroup": "Netherlands",
         "marker": {
          "color": "#EF553B",
          "size": [
           22.280461000000003
          ],
          "sizemode": "area",
          "sizeref": 0.20342491176470592,
          "symbol": "circle"
         },
         "mode": "markers",
         "name": "Netherlands",
         "orientation": "v",
         "showlegend": true,
         "type": "scatter",
         "x": [
          11.457694
         ],
         "xaxis": "x",
         "y": [
          5.189277000000001
         ],
         "yaxis": "y"
        },
        {
         "hovertemplate": "<b>Solar</b>: %{y}<br><b>Wind</b>: %{x}<br>",
         "legendgroup": "Norway",
         "marker": {
          "color": "#00cc96",
          "size": [
           5.910886088422377
          ],
          "sizemode": "area",
          "sizeref": 0.20342491176470592,
          "symbol": "circle"
         },
         "mode": "markers",
         "name": "Norway",
         "orientation": "v",
         "showlegend": true,
         "type": "scatter",
         "x": [
          5.537849363022239
         ],
         "xaxis": "x",
         "y": [
          0.11254699331848554
         ],
         "yaxis": "y"
        },
        {
         "hovertemplate": "<b>Solar</b>: %{y}<br><b>Wind</b>: %{x}<br>",
         "legendgroup": "Poland",
         "marker": {
          "color": "#ab63fa",
          "size": [
           23.097
          ],
          "sizemode": "area",
          "sizeref": 0.20342491176470592,
          "symbol": "circle"
         },
         "mode": "markers",
         "name": "Poland",
         "orientation": "v",
         "showlegend": true,
         "type": "scatter",
         "x": [
          15.037
         ],
         "xaxis": "x",
         "y": [
          0.713
         ],
         "yaxis": "y"
        },
        {
         "hovertemplate": "<b>Solar</b>: %{y}<br><b>Wind</b>: %{x}<br>",
         "legendgroup": "Portugal",
         "marker": {
          "color": "#FFA15A",
          "size": [
           18.56
          ],
          "sizemode": "area",
          "sizeref": 0.20342491176470592,
          "symbol": "circle"
         },
         "mode": "markers",
         "name": "Portugal",
         "orientation": "v",
         "showlegend": true,
         "type": "scatter",
         "x": [
          13.738
         ],
         "xaxis": "x",
         "y": [
          1.2750000000000001
         ],
         "yaxis": "y"
        },
        {
         "hovertemplate": "<b>Solar</b>: %{y}<br><b>Wind</b>: %{x}<br>",
         "legendgroup": "Romania",
         "marker": {
          "color": "#19d3f3",
          "size": [
           9.02285871787861
          ],
          "sizemode": "area",
          "sizeref": 0.20342491176470592,
          "symbol": "circle"
         },
         "mode": "markers",
         "name": "Romania",
         "orientation": "v",
         "showlegend": true,
         "type": "scatter",
         "x": [
          6.744
         ],
         "xaxis": "x",
         "y": [
          1.734
         ],
         "yaxis": "y"
        },
        {
         "hovertemplate": "<b>Solar</b>: %{y}<br><b>Wind</b>: %{x}<br>",
         "legendgroup": "Spain",
         "marker": {
          "color": "#FF6692",
          "size": [
           77.49040673188183
          ],
          "sizemode": "area",
          "sizeref": 0.20342491176470592,
          "symbol": "circle"
         },
         "mode": "markers",
         "name": "Spain",
         "orientation": "v",
         "showlegend": true,
         "type": "scatter",
         "x": [
          56.170464123064946
         ],
         "xaxis": "x",
         "y": [
          15.04171102062097
         ],
         "yaxis": "y"
        },
        {
         "hovertemplate": "<b>Solar</b>: %{y}<br><b>Wind</b>: %{x}<br>",
         "legendgroup": "Sweden",
         "marker": {
          "color": "#B6E880",
          "size": [
           33.59175684026279
          ],
          "sizemode": "area",
          "sizeref": 0.20342491176470592,
          "symbol": "circle"
         },
         "mode": "markers",
         "name": "Sweden",
         "orientation": "v",
         "showlegend": true,
         "type": "scatter",
         "x": [
          19.882862311436984
         ],
         "xaxis": "x",
         "y": [
          0.5867376673641033
         ],
         "yaxis": "y"
        },
        {
         "hovertemplate": "<b>Solar</b>: %{y}<br><b>Wind</b>: %{x}<br>",
         "legendgroup": "Switzerland",
         "marker": {
          "color": "#FF97FF",
          "size": [
           4.143664805909568
          ],
          "sizemode": "area",
          "sizeref": 0.20342491176470592,
          "symbol": "circle"
         },
         "mode": "markers",
         "name": "Switzerland",
         "orientation": "v",
         "showlegend": true,
         "type": "scatter",
         "x": [
          0.122
         ],
         "xaxis": "x",
         "y": [
          2.26009027826786
         ],
         "yaxis": "y"
        },
        {
         "hovertemplate": "<b>Solar</b>: %{y}<br><b>Wind</b>: %{x}<br>",
         "legendgroup": "Turkey",
         "marker": {
          "color": "#FECB52",
          "size": [
           45.33414012370379
          ],
          "sizemode": "area",
          "sizeref": 0.20342491176470592,
          "symbol": "circle"
         },
         "mode": "markers",
         "name": "Turkey",
         "orientation": "v",
         "showlegend": true,
         "type": "scatter",
         "x": [
          21.703989455841626
         ],
         "xaxis": "x",
         "y": [
          10.91957983910247
         ],
         "yaxis": "y"
        },
        {
         "hovertemplate": "<b>Solar</b>: %{y}<br><b>Wind</b>: %{x}<br>",
         "legendgroup": "Ukraine",
         "marker": {
          "color": "#636efa",
          "size": [
           5.037072552673899
          ],
          "sizemode": "area",
          "sizeref": 0.20342491176470592,
          "symbol": "circle"
         },
         "mode": "markers",
         "name": "Ukraine",
         "orientation": "v",
         "showlegend": true,
         "type": "scatter",
         "x": [
          1.8850770128873062
         ],
         "xaxis": "x",
         "y": [
          2.9108387998849263
         ],
         "yaxis": "y"
        },
        {
         "hovertemplate": "<b>Solar</b>: %{y}<br><b>Wind</b>: %{x}<br>",
         "legendgroup": "United Kingdom",
         "marker": {
          "color": "#EF553B",
          "size": [
           113.36367076941568
          ],
          "sizemode": "area",
          "sizeref": 0.20342491176470592,
          "symbol": "circle"
         },
         "mode": "markers",
         "name": "United Kingdom",
         "orientation": "v",
         "showlegend": true,
         "type": "scatter",
         "x": [
          64.13422422843128
         ],
         "xaxis": "x",
         "y": [
          12.67658325493442
         ],
         "yaxis": "y"
        },
        {
         "hovertemplate": "<b>Solar</b>: %{y}<br><b>Wind</b>: %{x}<br>",
         "legendgroup": "Other Europe",
         "marker": {
          "color": "#00cc96",
          "size": [
           2.0208853637933215
          ],
          "sizemode": "area",
          "sizeref": 0.20342491176470592,
          "symbol": "circle"
         },
         "mode": "markers",
         "name": "Other Europe",
         "orientation": "v",
         "showlegend": true,
         "type": "scatter",
         "x": [
          1.4976929055848198
         ],
         "xaxis": "x",
         "y": [
          0.29400110173238697
         ],
         "yaxis": "y"
        },
        {
         "hovertemplate": "<b>Solar</b>: %{y}<br><b>Wind</b>: %{x}<br>",
         "legendgroup": "Azerbaijan",
         "marker": {
          "color": "#ab63fa",
          "size": [
           0.25954434389140274
          ],
          "sizemode": "area",
          "sizeref": 0.20342491176470592,
          "symbol": "circle"
         },
         "mode": "markers",
         "name": "Azerbaijan",
         "orientation": "v",
         "showlegend": true,
         "type": "scatter",
         "x": [
          0.13464434389140273
         ],
         "xaxis": "x",
         "y": [
          0.0438
         ],
         "yaxis": "y"
        },
        {
         "hovertemplate": "<b>Solar</b>: %{y}<br><b>Wind</b>: %{x}<br>",
         "legendgroup": "Belarus",
         "marker": {
          "color": "#FFA15A",
          "size": [
           0.3400158009473235
          ],
          "sizemode": "area",
          "sizeref": 0.20342491176470592,
          "symbol": "circle"
         },
         "mode": "markers",
         "name": "Belarus",
         "orientation": "v",
         "showlegend": true,
         "type": "scatter",
         "x": [
          0.10634421383589507
         ],
         "xaxis": "x",
         "y": [
          0.11975891122780741
         ],
         "yaxis": "y"
        },
        {
         "hovertemplate": "<b>Solar</b>: %{y}<br><b>Wind</b>: %{x}<br>",
         "legendgroup": "Kazakhstan",
         "marker": {
          "color": "#19d3f3",
          "size": [
           0.7915863019521538
          ],
          "sizemode": "area",
          "sizeref": 0.20342491176470592,
          "symbol": "circle"
         },
         "mode": "markers",
         "name": "Kazakhstan",
         "orientation": "v",
         "showlegend": true,
         "type": "scatter",
         "x": [
          0.49579868662148985
         ],
         "xaxis": "x",
         "y": [
          0.2906730153306641
         ],
         "yaxis": "y"
        },
        {
         "hovertemplate": "<b>Solar</b>: %{y}<br><b>Wind</b>: %{x}<br>",
         "legendgroup": "Russian Federation",
         "marker": {
          "color": "#FF6692",
          "size": [
           1.820142
          ],
          "sizemode": "area",
          "sizeref": 0.20342491176470592,
          "symbol": "circle"
         },
         "mode": "markers",
         "name": "Russian Federation",
         "orientation": "v",
         "showlegend": true,
         "type": "scatter",
         "x": [
          0.31481000000000003
         ],
         "xaxis": "x",
         "y": [
          0.98505
         ],
         "yaxis": "y"
        },
        {
         "hovertemplate": "<b>Solar</b>: %{y}<br><b>Wind</b>: %{x}<br>",
         "legendgroup": "Turkmenistan",
         "marker": {
          "color": "#B6E880",
          "size": [
           0.00696
          ],
          "sizemode": "area",
          "sizeref": 0.20342491176470592,
          "symbol": "circle"
         },
         "mode": "markers",
         "name": "Turkmenistan",
         "orientation": "v",
         "showlegend": true,
         "type": "scatter",
         "x": [
          0
         ],
         "xaxis": "x",
         "y": [
          0.00696
         ],
         "yaxis": "y"
        },
        {
         "hovertemplate": "<b>Solar</b>: %{y}<br><b>Wind</b>: %{x}<br>",
         "legendgroup": "Uzbekistan",
         "marker": {
          "color": "#FF97FF",
          "size": [
           0.00381111111111111
          ],
          "sizemode": "area",
          "sizeref": 0.20342491176470592,
          "symbol": "circle"
         },
         "mode": "markers",
         "name": "Uzbekistan",
         "orientation": "v",
         "showlegend": true,
         "type": "scatter",
         "x": [
          0
         ],
         "xaxis": "x",
         "y": [
          0.00381111111111111
         ],
         "yaxis": "y"
        },
        {
         "hovertemplate": "<b>Solar</b>: %{y}<br><b>Wind</b>: %{x}<br>",
         "legendgroup": "Other CIS",
         "marker": {
          "color": "#FECB52",
          "size": [
           0.06714375
          ],
          "sizemode": "area",
          "sizeref": 0.20342491176470592,
          "symbol": "circle"
         },
         "mode": "markers",
         "name": "Other CIS",
         "orientation": "v",
         "showlegend": true,
         "type": "scatter",
         "x": [
          0.0262
         ],
         "xaxis": "x",
         "y": [
          0.021143750000000003
         ],
         "yaxis": "y"
        },
        {
         "hovertemplate": "<b>Solar</b>: %{y}<br><b>Wind</b>: %{x}<br>",
         "legendgroup": "Iran",
         "marker": {
          "color": "#636efa",
          "size": [
           0.5525169174128368
          ],
          "sizemode": "area",
          "sizeref": 0.20342491176470592,
          "symbol": "circle"
         },
         "mode": "markers",
         "name": "Iran",
         "orientation": "v",
         "showlegend": true,
         "type": "scatter",
         "x": [
          0.3573404166841752
         ],
         "xaxis": "x",
         "y": [
          0.17073650072866162
         ],
         "yaxis": "y"
        },
        {
         "hovertemplate": "<b>Solar</b>: %{y}<br><b>Wind</b>: %{x}<br>",
         "legendgroup": "Iraq",
         "marker": {
          "color": "#EF553B",
          "size": [
           0.057305
          ],
          "sizemode": "area",
          "sizeref": 0.20342491176470592,
          "symbol": "circle"
         },
         "mode": "markers",
         "name": "Iraq",
         "orientation": "v",
         "showlegend": true,
         "type": "scatter",
         "x": [
          0
         ],
         "xaxis": "x",
         "y": [
          0.057305
         ],
         "yaxis": "y"
        },
        {
         "hovertemplate": "<b>Solar</b>: %{y}<br><b>Wind</b>: %{x}<br>",
         "legendgroup": "Israel",
         "marker": {
          "color": "#00cc96",
          "size": [
           2.8845983866535816
          ],
          "sizemode": "area",
          "sizeref": 0.20342491176470592,
          "symbol": "circle"
         },
         "mode": "markers",
         "name": "Israel",
         "orientation": "v",
         "showlegend": true,
         "type": "scatter",
         "x": [
          0.064446
         ],
         "xaxis": "x",
         "y": [
          2.7194243866535817
         ],
         "yaxis": "y"
        },
        {
         "hovertemplate": "<b>Solar</b>: %{y}<br><b>Wind</b>: %{x}<br>",
         "legendgroup": "Kuwait",
         "marker": {
          "color": "#ab63fa",
          "size": [
           0.1598703990587641
          ],
          "sizemode": "area",
          "sizeref": 0.20342491176470592,
          "symbol": "circle"
         },
         "mode": "markers",
         "name": "Kuwait",
         "orientation": "v",
         "showlegend": true,
         "type": "scatter",
         "x": [
          0.01752
         ],
         "xaxis": "x",
         "y": [
          0.1423503990587641
         ],
         "yaxis": "y"
        },
        {
         "hovertemplate": "<b>Solar</b>: %{y}<br><b>Wind</b>: %{x}<br>",
         "legendgroup": "Oman",
         "marker": {
          "color": "#FFA15A",
          "size": [
           0.0037552343188598752
          ],
          "sizemode": "area",
          "sizeref": 0.20342491176470592,
          "symbol": "circle"
         },
         "mode": "markers",
         "name": "Oman",
         "orientation": "v",
         "showlegend": true,
         "type": "scatter",
         "x": [
          0
         ],
         "xaxis": "x",
         "y": [
          0.0037552343188598752
         ],
         "yaxis": "y"
        },
        {
         "hovertemplate": "<b>Solar</b>: %{y}<br><b>Wind</b>: %{x}<br>",
         "legendgroup": "Qatar",
         "marker": {
          "color": "#19d3f3",
          "size": [
           0.123208
          ],
          "sizemode": "area",
          "sizeref": 0.20342491176470592,
          "symbol": "circle"
         },
         "mode": "markers",
         "name": "Qatar",
         "orientation": "v",
         "showlegend": true,
         "type": "scatter",
         "x": [
          0
         ],
         "xaxis": "x",
         "y": [
          0.008364000000000002
         ],
         "yaxis": "y"
        },
        {
         "hovertemplate": "<b>Solar</b>: %{y}<br><b>Wind</b>: %{x}<br>",
         "legendgroup": "Saudi Arabia",
         "marker": {
          "color": "#FF6692",
          "size": [
           1.7810423903859423
          ],
          "sizemode": "area",
          "sizeref": 0.20342491176470592,
          "symbol": "circle"
         },
         "mode": "markers",
         "name": "Saudi Arabia",
         "orientation": "v",
         "showlegend": true,
         "type": "scatter",
         "x": [
          0
         ],
         "xaxis": "x",
         "y": [
          1.7810423903859423
         ],
         "yaxis": "y"
        },
        {
         "hovertemplate": "<b>Solar</b>: %{y}<br><b>Wind</b>: %{x}<br>",
         "legendgroup": "United Arab Emirates",
         "marker": {
          "color": "#B6E880",
          "size": [
           4.17636766483256
          ],
          "sizemode": "area",
          "sizeref": 0.20342491176470592,
          "symbol": "circle"
         },
         "mode": "markers",
         "name": "United Arab Emirates",
         "orientation": "v",
         "showlegend": true,
         "type": "scatter",
         "x": [
          0.001489
         ],
         "xaxis": "x",
         "y": [
          4.168878664832559
         ],
         "yaxis": "y"
        },
        {
         "hovertemplate": "<b>Solar</b>: %{y}<br><b>Wind</b>: %{x}<br>",
         "legendgroup": "Other Middle East",
         "marker": {
          "color": "#FF97FF",
          "size": [
           3.5953733469055695
          ],
          "sizemode": "area",
          "sizeref": 0.20342491176470592,
          "symbol": "circle"
         },
         "mode": "markers",
         "name": "Other Middle East",
         "orientation": "v",
         "showlegend": true,
         "type": "scatter",
         "x": [
          0.715251
         ],
         "xaxis": "x",
         "y": [
          2.8697223469055695
         ],
         "yaxis": "y"
        },
        {
         "hovertemplate": "<b>Solar</b>: %{y}<br><b>Wind</b>: %{x}<br>",
         "legendgroup": "Algeria",
         "marker": {
          "color": "#FECB52",
          "size": [
           0.625
          ],
          "sizemode": "area",
          "sizeref": 0.20342491176470592,
          "symbol": "circle"
         },
         "mode": "markers",
         "name": "Algeria",
         "orientation": "v",
         "showlegend": true,
         "type": "scatter",
         "x": [
          0.01
         ],
         "xaxis": "x",
         "y": [
          0.615
         ],
         "yaxis": "y"
        },
        {
         "hovertemplate": "<b>Solar</b>: %{y}<br><b>Wind</b>: %{x}<br>",
         "legendgroup": "Egypt",
         "marker": {
          "color": "#636efa",
          "size": [
           6.468686868686869
          ],
          "sizemode": "area",
          "sizeref": 0.20342491176470592,
          "symbol": "circle"
         },
         "mode": "markers",
         "name": "Egypt",
         "orientation": "v",
         "showlegend": true,
         "type": "scatter",
         "x": [
          2.7916736643534055
         ],
         "xaxis": "x",
         "y": [
          3.6770132043334636
         ],
         "yaxis": "y"
        },
        {
         "hovertemplate": "<b>Solar</b>: %{y}<br><b>Wind</b>: %{x}<br>",
         "legendgroup": "Morocco",
         "marker": {
          "color": "#EF553B",
          "size": [
           6.280652000000003
          ],
          "sizemode": "area",
          "sizeref": 0.20342491176470592,
          "symbol": "circle"
         },
         "mode": "markers",
         "name": "Morocco",
         "orientation": "v",
         "showlegend": true,
         "type": "scatter",
         "x": [
          4.699190000000002
         ],
         "xaxis": "x",
         "y": [
          1.581462
         ],
         "yaxis": "y"
        },
        {
         "hovertemplate": "<b>Solar</b>: %{y}<br><b>Wind</b>: %{x}<br>",
         "legendgroup": "South Africa",
         "marker": {
          "color": "#00cc96",
          "size": [
           12.62824866992727
          ],
          "sizemode": "area",
          "sizeref": 0.20342491176470592,
          "symbol": "circle"
         },
         "mode": "markers",
         "name": "South Africa",
         "orientation": "v",
         "showlegend": true,
         "type": "scatter",
         "x": [
          6.938147210416855
         ],
         "xaxis": "x",
         "y": [
          5.2608527895831445
         ],
         "yaxis": "y"
        },
        {
         "hovertemplate": "<b>Solar</b>: %{y}<br><b>Wind</b>: %{x}<br>",
         "legendgroup": "Other Africa",
         "marker": {
          "color": "#ab63fa",
          "size": [
           19.0676900693344
          ],
          "sizemode": "area",
          "sizeref": 0.20342491176470592,
          "symbol": "circle"
         },
         "mode": "markers",
         "name": "Other Africa",
         "orientation": "v",
         "showlegend": true,
         "type": "scatter",
         "x": [
          3.0690416272862557
         ],
         "xaxis": "x",
         "y": [
          8.243649833985195
         ],
         "yaxis": "y"
        },
        {
         "hovertemplate": "<b>Solar</b>: %{y}<br><b>Wind</b>: %{x}<br>",
         "legendgroup": "Australia",
         "marker": {
          "color": "#FFA15A",
          "size": [
           41.05111558893802
          ],
          "sizemode": "area",
          "sizeref": 0.20342491176470592,
          "symbol": "circle"
         },
         "mode": "markers",
         "name": "Australia",
         "orientation": "v",
         "showlegend": true,
         "type": "scatter",
         "x": [
          19.524461876731994
         ],
         "xaxis": "x",
         "y": [
          17.95071448069738
         ],
         "yaxis": "y"
        },
        {
         "hovertemplate": "<b>Solar</b>: %{y}<br><b>Wind</b>: %{x}<br>",
         "legendgroup": "Bangladesh",
         "marker": {
          "color": "#19d3f3",
          "size": [
           0.4334566413029373
          ],
          "sizemode": "area",
          "sizeref": 0.20342491176470592,
          "symbol": "circle"
         },
         "mode": "markers",
         "name": "Bangladesh",
         "orientation": "v",
         "showlegend": true,
         "type": "scatter",
         "x": [
          0.005081
         ],
         "xaxis": "x",
         "y": [
          0.4206376413029373
         ],
         "yaxis": "y"
        },
        {
         "hovertemplate": "<b>Solar</b>: %{y}<br><b>Wind</b>: %{x}<br>",
         "legendgroup": "China",
         "marker": {
          "color": "#FF6692",
          "size": [
           732.3296823529413
          ],
          "sizemode": "area",
          "sizeref": 0.20342491176470592,
          "symbol": "circle"
         },
         "mode": "markers",
         "name": "China",
         "orientation": "v",
         "showlegend": true,
         "type": "scatter",
         "x": [
          405.7
         ],
         "xaxis": "x",
         "y": [
          223.8
         ],
         "yaxis": "y"
        },
        {
         "hovertemplate": "<b>Solar</b>: %{y}<br><b>Wind</b>: %{x}<br>",
         "legendgroup": "China Hong Kong SAR",
         "marker": {
          "color": "#B6E880",
          "size": [
           0.11147048409166904
          ],
          "sizemode": "area",
          "sizeref": 0.20342491176470592,
          "symbol": "circle"
         },
         "mode": "markers",
         "name": "China Hong Kong SAR",
         "orientation": "v",
         "showlegend": true,
         "type": "scatter",
         "x": [
          0.0017396496815286625
         ],
         "xaxis": "x",
         "y": [
          0.000782842356687898
         ],
         "yaxis": "y"
        },
        {
         "hovertemplate": "<b>Solar</b>: %{y}<br><b>Wind</b>: %{x}<br>",
         "legendgroup": "India",
         "marker": {
          "color": "#FF97FF",
          "size": [
           134.9327894709131
          ],
          "sizemode": "area",
          "sizeref": 0.20342491176470592,
          "symbol": "circle"
         },
         "mode": "markers",
         "name": "India",
         "orientation": "v",
         "showlegend": true,
         "type": "scatter",
         "x": [
          63.31423
         ],
         "xaxis": "x",
         "y": [
          46.2677
         ],
         "yaxis": "y"
        },
        {
         "hovertemplate": "<b>Solar</b>: %{y}<br><b>Wind</b>: %{x}<br>",
         "legendgroup": "Indonesia",
         "marker": {
          "color": "#FECB52",
          "size": [
           15.953712384473999
          ],
          "sizemode": "area",
          "sizeref": 0.20342491176470592,
          "symbol": "circle"
         },
         "mode": "markers",
         "name": "Indonesia",
         "orientation": "v",
         "showlegend": true,
         "type": "scatter",
         "x": [
          0.18797999999999998
         ],
         "xaxis": "x",
         "y": [
          0.06357891050815583
         ],
         "yaxis": "y"
        },
        {
         "hovertemplate": "<b>Solar</b>: %{y}<br><b>Wind</b>: %{x}<br>",
         "legendgroup": "Japan",
         "marker": {
          "color": "#636efa",
          "size": [
           121.16168391281234
          ],
          "sizemode": "area",
          "sizeref": 0.20342491176470592,
          "symbol": "circle"
         },
         "mode": "markers",
         "name": "Japan",
         "orientation": "v",
         "showlegend": true,
         "type": "scatter",
         "x": [
          8.620117171717174
         ],
         "xaxis": "x",
         "y": [
          75.2744898989899
         ],
         "yaxis": "y"
        },
        {
         "hovertemplate": "<b>Solar</b>: %{y}<br><b>Wind</b>: %{x}<br>",
         "legendgroup": "Malaysia",
         "marker": {
          "color": "#EF553B",
          "size": [
           1.6834539645890632
          ],
          "sizemode": "area",
          "sizeref": 0.20342491176470592,
          "symbol": "circle"
         },
         "mode": "markers",
         "name": "Malaysia",
         "orientation": "v",
         "showlegend": true,
         "type": "scatter",
         "x": [
          0
         ],
         "xaxis": "x",
         "y": [
          0.793705770939395
         ],
         "yaxis": "y"
        },
        {
         "hovertemplate": "<b>Solar</b>: %{y}<br><b>Wind</b>: %{x}<br>",
         "legendgroup": "New Zealand",
         "marker": {
          "color": "#00cc96",
          "size": [
           10.808778379944073
          ],
          "sizemode": "area",
          "sizeref": 0.20342491176470592,
          "symbol": "circle"
         },
         "mode": "markers",
         "name": "New Zealand",
         "orientation": "v",
         "showlegend": true,
         "type": "scatter",
         "x": [
          2.2552047891010103
         ],
         "xaxis": "x",
         "y": [
          0.12688372072727272
         ],
         "yaxis": "y"
        },
        {
         "hovertemplate": "<b>Solar</b>: %{y}<br><b>Wind</b>: %{x}<br>",
         "legendgroup": "Pakistan",
         "marker": {
          "color": "#ab63fa",
          "size": [
           6.883533165473226
          ],
          "sizemode": "area",
          "sizeref": 0.20342491176470592,
          "symbol": "circle"
         },
         "mode": "markers",
         "name": "Pakistan",
         "orientation": "v",
         "showlegend": true,
         "type": "scatter",
         "x": [
          4.7782236286919835
         ],
         "xaxis": "x",
         "y": [
          1.1603085476615584
         ],
         "yaxis": "y"
        },
        {
         "hovertemplate": "<b>Solar</b>: %{y}<br><b>Wind</b>: %{x}<br>",
         "legendgroup": "Philippines",
         "marker": {
          "color": "#FFA15A",
          "size": [
           14.27798014646846
          ],
          "sizemode": "area",
          "sizeref": 0.20342491176470592,
          "symbol": "circle"
         },
         "mode": "markers",
         "name": "Philippines",
         "orientation": "v",
         "showlegend": true,
         "type": "scatter",
         "x": [
          1.1749147826199542
         ],
         "xaxis": "x",
         "y": [
          1.3310992474782462
         ],
         "yaxis": "y"
        },
        {
         "hovertemplate": "<b>Solar</b>: %{y}<br><b>Wind</b>: %{x}<br>",
         "legendgroup": "Singapore",
         "marker": {
          "color": "#19d3f3",
          "size": [
           0.9511074080639957
          ],
          "sizemode": "area",
          "sizeref": 0.20342491176470592,
          "symbol": "circle"
         },
         "mode": "markers",
         "name": "Singapore",
         "orientation": "v",
         "showlegend": true,
         "type": "scatter",
         "x": [
          0
         ],
         "xaxis": "x",
         "y": [
          0.19461899000000002
         ],
         "yaxis": "y"
        },
        {
         "hovertemplate": "<b>Solar</b>: %{y}<br><b>Wind</b>: %{x}<br>",
         "legendgroup": "South Korea",
         "marker": {
          "color": "#FF6692",
          "size": [
           29.235462860550687
          ],
          "sizemode": "area",
          "sizeref": 0.20342491176470592,
          "symbol": "circle"
         },
         "mode": "markers",
         "name": "South Korea",
         "orientation": "v",
         "showlegend": true,
         "type": "scatter",
         "x": [
          2.757888674102656
         ],
         "xaxis": "x",
         "y": [
          12.132911186448032
         ],
         "yaxis": "y"
        },
        {
         "hovertemplate": "<b>Solar</b>: %{y}<br><b>Wind</b>: %{x}<br>",
         "legendgroup": "Sri Lanka",
         "marker": {
          "color": "#B6E880",
          "size": [
           0.8264309110221952
          ],
          "sizemode": "area",
          "sizeref": 0.20342491176470592,
          "symbol": "circle"
         },
         "mode": "markers",
         "name": "Sri Lanka",
         "orientation": "v",
         "showlegend": true,
         "type": "scatter",
         "x": [
          0.36680999999999997
         ],
         "xaxis": "x",
         "y": [
          0.36874485117182126
         ],
         "yaxis": "y"
        },
        {
         "hovertemplate": "<b>Solar</b>: %{y}<br><b>Wind</b>: %{x}<br>",
         "legendgroup": "Taiwan",
         "marker": {
          "color": "#FF97FF",
          "size": [
           7.998164277500001
          ],
          "sizemode": "area",
          "sizeref": 0.20342491176470592,
          "symbol": "circle"
         },
         "mode": "markers",
         "name": "Taiwan",
         "orientation": "v",
         "showlegend": true,
         "type": "scatter",
         "x": [
          1.8713179609999997
         ],
         "xaxis": "x",
         "y": [
          4.144092368000001
         ],
         "yaxis": "y"
        },
        {
         "hovertemplate": "<b>Solar</b>: %{y}<br><b>Wind</b>: %{x}<br>",
         "legendgroup": "Thailand",
         "marker": {
          "color": "#FECB52",
          "size": [
           21.403670967000007
          ],
          "sizemode": "area",
          "sizeref": 0.20342491176470592,
          "symbol": "circle"
         },
         "mode": "markers",
         "name": "Thailand",
         "orientation": "v",
         "showlegend": true,
         "type": "scatter",
         "x": [
          2.661691796453419
         ],
         "xaxis": "x",
         "y": [
          5.014034534741386
         ],
         "yaxis": "y"
        },
        {
         "hovertemplate": "<b>Solar</b>: %{y}<br><b>Wind</b>: %{x}<br>",
         "legendgroup": "Vietnam",
         "marker": {
          "color": "#636efa",
          "size": [
           4.748161516365413
          ],
          "sizemode": "area",
          "sizeref": 0.20342491176470592,
          "symbol": "circle"
         },
         "mode": "markers",
         "name": "Vietnam",
         "orientation": "v",
         "showlegend": true,
         "type": "scatter",
         "x": [
          0.49090751636541285
         ],
         "xaxis": "x",
         "y": [
          4.1808000000000005
         ],
         "yaxis": "y"
        },
        {
         "hovertemplate": "<b>Solar</b>: %{y}<br><b>Wind</b>: %{x}<br>",
         "legendgroup": "Other Asia Pacific",
         "marker": {
          "color": "#EF553B",
          "size": [
           1.4136758982847397
          ],
          "sizemode": "area",
          "sizeref": 0.20342491176470592,
          "symbol": "circle"
         },
         "mode": "markers",
         "name": "Other Asia Pacific",
         "orientation": "v",
         "showlegend": true,
         "type": "scatter",
         "x": [
          0.5490475755958245
         ],
         "xaxis": "x",
         "y": [
          0.6967383226889151
         ],
         "yaxis": "y"
        }
       ],
       "layout": {
        "legend": {
         "itemsizing": "constant",
         "title": {
          "text": "color"
         },
         "tracegroupgap": 0
        },
        "showlegend": false,
        "template": {
         "data": {
          "bar": [
           {
            "error_x": {
             "color": "#2a3f5f"
            },
            "error_y": {
             "color": "#2a3f5f"
            },
            "marker": {
             "line": {
              "color": "#E5ECF6",
              "width": 0.5
             }
            },
            "type": "bar"
           }
          ],
          "barpolar": [
           {
            "marker": {
             "line": {
              "color": "#E5ECF6",
              "width": 0.5
             }
            },
            "type": "barpolar"
           }
          ],
          "carpet": [
           {
            "aaxis": {
             "endlinecolor": "#2a3f5f",
             "gridcolor": "white",
             "linecolor": "white",
             "minorgridcolor": "white",
             "startlinecolor": "#2a3f5f"
            },
            "baxis": {
             "endlinecolor": "#2a3f5f",
             "gridcolor": "white",
             "linecolor": "white",
             "minorgridcolor": "white",
             "startlinecolor": "#2a3f5f"
            },
            "type": "carpet"
           }
          ],
          "choropleth": [
           {
            "colorbar": {
             "outlinewidth": 0,
             "ticks": ""
            },
            "type": "choropleth"
           }
          ],
          "contour": [
           {
            "colorbar": {
             "outlinewidth": 0,
             "ticks": ""
            },
            "colorscale": [
             [
              0,
              "#0d0887"
             ],
             [
              0.1111111111111111,
              "#46039f"
             ],
             [
              0.2222222222222222,
              "#7201a8"
             ],
             [
              0.3333333333333333,
              "#9c179e"
             ],
             [
              0.4444444444444444,
              "#bd3786"
             ],
             [
              0.5555555555555556,
              "#d8576b"
             ],
             [
              0.6666666666666666,
              "#ed7953"
             ],
             [
              0.7777777777777778,
              "#fb9f3a"
             ],
             [
              0.8888888888888888,
              "#fdca26"
             ],
             [
              1,
              "#f0f921"
             ]
            ],
            "type": "contour"
           }
          ],
          "contourcarpet": [
           {
            "colorbar": {
             "outlinewidth": 0,
             "ticks": ""
            },
            "type": "contourcarpet"
           }
          ],
          "heatmap": [
           {
            "colorbar": {
             "outlinewidth": 0,
             "ticks": ""
            },
            "colorscale": [
             [
              0,
              "#0d0887"
             ],
             [
              0.1111111111111111,
              "#46039f"
             ],
             [
              0.2222222222222222,
              "#7201a8"
             ],
             [
              0.3333333333333333,
              "#9c179e"
             ],
             [
              0.4444444444444444,
              "#bd3786"
             ],
             [
              0.5555555555555556,
              "#d8576b"
             ],
             [
              0.6666666666666666,
              "#ed7953"
             ],
             [
              0.7777777777777778,
              "#fb9f3a"
             ],
             [
              0.8888888888888888,
              "#fdca26"
             ],
             [
              1,
              "#f0f921"
             ]
            ],
            "type": "heatmap"
           }
          ],
          "heatmapgl": [
           {
            "colorbar": {
             "outlinewidth": 0,
             "ticks": ""
            },
            "colorscale": [
             [
              0,
              "#0d0887"
             ],
             [
              0.1111111111111111,
              "#46039f"
             ],
             [
              0.2222222222222222,
              "#7201a8"
             ],
             [
              0.3333333333333333,
              "#9c179e"
             ],
             [
              0.4444444444444444,
              "#bd3786"
             ],
             [
              0.5555555555555556,
              "#d8576b"
             ],
             [
              0.6666666666666666,
              "#ed7953"
             ],
             [
              0.7777777777777778,
              "#fb9f3a"
             ],
             [
              0.8888888888888888,
              "#fdca26"
             ],
             [
              1,
              "#f0f921"
             ]
            ],
            "type": "heatmapgl"
           }
          ],
          "histogram": [
           {
            "marker": {
             "colorbar": {
              "outlinewidth": 0,
              "ticks": ""
             }
            },
            "type": "histogram"
           }
          ],
          "histogram2d": [
           {
            "colorbar": {
             "outlinewidth": 0,
             "ticks": ""
            },
            "colorscale": [
             [
              0,
              "#0d0887"
             ],
             [
              0.1111111111111111,
              "#46039f"
             ],
             [
              0.2222222222222222,
              "#7201a8"
             ],
             [
              0.3333333333333333,
              "#9c179e"
             ],
             [
              0.4444444444444444,
              "#bd3786"
             ],
             [
              0.5555555555555556,
              "#d8576b"
             ],
             [
              0.6666666666666666,
              "#ed7953"
             ],
             [
              0.7777777777777778,
              "#fb9f3a"
             ],
             [
              0.8888888888888888,
              "#fdca26"
             ],
             [
              1,
              "#f0f921"
             ]
            ],
            "type": "histogram2d"
           }
          ],
          "histogram2dcontour": [
           {
            "colorbar": {
             "outlinewidth": 0,
             "ticks": ""
            },
            "colorscale": [
             [
              0,
              "#0d0887"
             ],
             [
              0.1111111111111111,
              "#46039f"
             ],
             [
              0.2222222222222222,
              "#7201a8"
             ],
             [
              0.3333333333333333,
              "#9c179e"
             ],
             [
              0.4444444444444444,
              "#bd3786"
             ],
             [
              0.5555555555555556,
              "#d8576b"
             ],
             [
              0.6666666666666666,
              "#ed7953"
             ],
             [
              0.7777777777777778,
              "#fb9f3a"
             ],
             [
              0.8888888888888888,
              "#fdca26"
             ],
             [
              1,
              "#f0f921"
             ]
            ],
            "type": "histogram2dcontour"
           }
          ],
          "mesh3d": [
           {
            "colorbar": {
             "outlinewidth": 0,
             "ticks": ""
            },
            "type": "mesh3d"
           }
          ],
          "parcoords": [
           {
            "line": {
             "colorbar": {
              "outlinewidth": 0,
              "ticks": ""
             }
            },
            "type": "parcoords"
           }
          ],
          "pie": [
           {
            "automargin": true,
            "type": "pie"
           }
          ],
          "scatter": [
           {
            "marker": {
             "colorbar": {
              "outlinewidth": 0,
              "ticks": ""
             }
            },
            "type": "scatter"
           }
          ],
          "scatter3d": [
           {
            "line": {
             "colorbar": {
              "outlinewidth": 0,
              "ticks": ""
             }
            },
            "marker": {
             "colorbar": {
              "outlinewidth": 0,
              "ticks": ""
             }
            },
            "type": "scatter3d"
           }
          ],
          "scattercarpet": [
           {
            "marker": {
             "colorbar": {
              "outlinewidth": 0,
              "ticks": ""
             }
            },
            "type": "scattercarpet"
           }
          ],
          "scattergeo": [
           {
            "marker": {
             "colorbar": {
              "outlinewidth": 0,
              "ticks": ""
             }
            },
            "type": "scattergeo"
           }
          ],
          "scattergl": [
           {
            "marker": {
             "colorbar": {
              "outlinewidth": 0,
              "ticks": ""
             }
            },
            "type": "scattergl"
           }
          ],
          "scattermapbox": [
           {
            "marker": {
             "colorbar": {
              "outlinewidth": 0,
              "ticks": ""
             }
            },
            "type": "scattermapbox"
           }
          ],
          "scatterpolar": [
           {
            "marker": {
             "colorbar": {
              "outlinewidth": 0,
              "ticks": ""
             }
            },
            "type": "scatterpolar"
           }
          ],
          "scatterpolargl": [
           {
            "marker": {
             "colorbar": {
              "outlinewidth": 0,
              "ticks": ""
             }
            },
            "type": "scatterpolargl"
           }
          ],
          "scatterternary": [
           {
            "marker": {
             "colorbar": {
              "outlinewidth": 0,
              "ticks": ""
             }
            },
            "type": "scatterternary"
           }
          ],
          "surface": [
           {
            "colorbar": {
             "outlinewidth": 0,
             "ticks": ""
            },
            "colorscale": [
             [
              0,
              "#0d0887"
             ],
             [
              0.1111111111111111,
              "#46039f"
             ],
             [
              0.2222222222222222,
              "#7201a8"
             ],
             [
              0.3333333333333333,
              "#9c179e"
             ],
             [
              0.4444444444444444,
              "#bd3786"
             ],
             [
              0.5555555555555556,
              "#d8576b"
             ],
             [
              0.6666666666666666,
              "#ed7953"
             ],
             [
              0.7777777777777778,
              "#fb9f3a"
             ],
             [
              0.8888888888888888,
              "#fdca26"
             ],
             [
              1,
              "#f0f921"
             ]
            ],
            "type": "surface"
           }
          ],
          "table": [
           {
            "cells": {
             "fill": {
              "color": "#EBF0F8"
             },
             "line": {
              "color": "white"
             }
            },
            "header": {
             "fill": {
              "color": "#C8D4E3"
             },
             "line": {
              "color": "white"
             }
            },
            "type": "table"
           }
          ]
         },
         "layout": {
          "annotationdefaults": {
           "arrowcolor": "#2a3f5f",
           "arrowhead": 0,
           "arrowwidth": 1
          },
          "coloraxis": {
           "colorbar": {
            "outlinewidth": 0,
            "ticks": ""
           }
          },
          "colorscale": {
           "diverging": [
            [
             0,
             "#8e0152"
            ],
            [
             0.1,
             "#c51b7d"
            ],
            [
             0.2,
             "#de77ae"
            ],
            [
             0.3,
             "#f1b6da"
            ],
            [
             0.4,
             "#fde0ef"
            ],
            [
             0.5,
             "#f7f7f7"
            ],
            [
             0.6,
             "#e6f5d0"
            ],
            [
             0.7,
             "#b8e186"
            ],
            [
             0.8,
             "#7fbc41"
            ],
            [
             0.9,
             "#4d9221"
            ],
            [
             1,
             "#276419"
            ]
           ],
           "sequential": [
            [
             0,
             "#0d0887"
            ],
            [
             0.1111111111111111,
             "#46039f"
            ],
            [
             0.2222222222222222,
             "#7201a8"
            ],
            [
             0.3333333333333333,
             "#9c179e"
            ],
            [
             0.4444444444444444,
             "#bd3786"
            ],
            [
             0.5555555555555556,
             "#d8576b"
            ],
            [
             0.6666666666666666,
             "#ed7953"
            ],
            [
             0.7777777777777778,
             "#fb9f3a"
            ],
            [
             0.8888888888888888,
             "#fdca26"
            ],
            [
             1,
             "#f0f921"
            ]
           ],
           "sequentialminus": [
            [
             0,
             "#0d0887"
            ],
            [
             0.1111111111111111,
             "#46039f"
            ],
            [
             0.2222222222222222,
             "#7201a8"
            ],
            [
             0.3333333333333333,
             "#9c179e"
            ],
            [
             0.4444444444444444,
             "#bd3786"
            ],
            [
             0.5555555555555556,
             "#d8576b"
            ],
            [
             0.6666666666666666,
             "#ed7953"
            ],
            [
             0.7777777777777778,
             "#fb9f3a"
            ],
            [
             0.8888888888888888,
             "#fdca26"
            ],
            [
             1,
             "#f0f921"
            ]
           ]
          },
          "colorway": [
           "#636efa",
           "#EF553B",
           "#00cc96",
           "#ab63fa",
           "#FFA15A",
           "#19d3f3",
           "#FF6692",
           "#B6E880",
           "#FF97FF",
           "#FECB52"
          ],
          "font": {
           "color": "#2a3f5f"
          },
          "geo": {
           "bgcolor": "white",
           "lakecolor": "white",
           "landcolor": "#E5ECF6",
           "showlakes": true,
           "showland": true,
           "subunitcolor": "white"
          },
          "hoverlabel": {
           "align": "left"
          },
          "hovermode": "closest",
          "mapbox": {
           "style": "light"
          },
          "paper_bgcolor": "white",
          "plot_bgcolor": "#E5ECF6",
          "polar": {
           "angularaxis": {
            "gridcolor": "white",
            "linecolor": "white",
            "ticks": ""
           },
           "bgcolor": "#E5ECF6",
           "radialaxis": {
            "gridcolor": "white",
            "linecolor": "white",
            "ticks": ""
           }
          },
          "scene": {
           "xaxis": {
            "backgroundcolor": "#E5ECF6",
            "gridcolor": "white",
            "gridwidth": 2,
            "linecolor": "white",
            "showbackground": true,
            "ticks": "",
            "zerolinecolor": "white"
           },
           "yaxis": {
            "backgroundcolor": "#E5ECF6",
            "gridcolor": "white",
            "gridwidth": 2,
            "linecolor": "white",
            "showbackground": true,
            "ticks": "",
            "zerolinecolor": "white"
           },
           "zaxis": {
            "backgroundcolor": "#E5ECF6",
            "gridcolor": "white",
            "gridwidth": 2,
            "linecolor": "white",
            "showbackground": true,
            "ticks": "",
            "zerolinecolor": "white"
           }
          },
          "shapedefaults": {
           "line": {
            "color": "#2a3f5f"
           }
          },
          "ternary": {
           "aaxis": {
            "gridcolor": "white",
            "linecolor": "white",
            "ticks": ""
           },
           "baxis": {
            "gridcolor": "white",
            "linecolor": "white",
            "ticks": ""
           },
           "bgcolor": "#E5ECF6",
           "caxis": {
            "gridcolor": "white",
            "linecolor": "white",
            "ticks": ""
           }
          },
          "title": {
           "x": 0.05
          },
          "xaxis": {
           "automargin": true,
           "gridcolor": "white",
           "linecolor": "white",
           "ticks": "",
           "title": {
            "standoff": 15
           },
           "zerolinecolor": "white",
           "zerolinewidth": 2
          },
          "yaxis": {
           "automargin": true,
           "gridcolor": "white",
           "linecolor": "white",
           "ticks": "",
           "title": {
            "standoff": 15
           },
           "zerolinecolor": "white",
           "zerolinewidth": 2
          }
         }
        },
        "title": {
         "text": "Renewable Generation By Source: 2019"
        },
        "xaxis": {
         "anchor": "y",
         "domain": [
          0,
          1
         ],
         "title": {
          "text": "Wind (2019)"
         }
        },
        "yaxis": {
         "anchor": "x",
         "domain": [
          0,
          1
         ],
         "title": {
          "text": "Solar (2019)"
         }
        }
       }
      }
     },
     "metadata": {}
    }
   ],
   "source": [
    "fig = pex.scatter(Yr2019, x = \"Wind (2019)\", y = \"Solar (2019)\",size=\"Total (2019)\", color=list(Yr2019.index), size_max=60,template=\"plotly\", title=\"Renewable Generation By Source: 2019\")\n",
    "fig.update_layout(showlegend=False)\n",
    "fig.update_traces(hovertemplate='<b>Solar</b>: %{y}'+'<br><b>Wind</b>: %{x}<br>')\n",
    "fig.show()"
   ]
  },
  {
   "cell_type": "code",
   "execution_count": 10,
   "metadata": {},
   "outputs": [],
   "source": [
    "import chart_studio\n",
    "import chart_studio.plotly as py\n",
    "import chart_studio.tools as tls"
   ]
  },
  {
   "cell_type": "code",
   "execution_count": 61,
   "metadata": {},
   "outputs": [],
   "source": [
    "chart_studio.tools.set_credentials_file(username=username, api_key=api_key)"
   ]
  },
  {
   "cell_type": "code",
   "execution_count": 62,
   "metadata": {},
   "outputs": [],
   "source": [
    "Bubble=fig = pex.scatter(Yr2019, x = \"Wind (2019)\", y = \"Solar (2019)\",size=\"Total (2019)\", color=list(Yr2019.index), size_max=60,template=\"plotly\", title=\"Renewable Generation By Source: 2019\").update_layout(showlegend=False).update_traces(hovertemplate='<b>Solar</b>: %{y}'+'<br><b>Wind</b>: %{x}<br>')"
   ]
  },
  {
   "cell_type": "code",
   "execution_count": 63,
   "metadata": {},
   "outputs": [
    {
     "output_type": "execute_result",
     "data": {
      "text/plain": "'https://plotly.com/~mjcherkassky/1/'"
     },
     "metadata": {},
     "execution_count": 63
    }
   ],
   "source": [
    "py.plot(Bubble, filename=\"Renewable Generation 2019\", auto_opne=True)"
   ]
  },
  {
   "cell_type": "code",
   "execution_count": null,
   "metadata": {},
   "outputs": [],
   "source": [
    "# <iframe width=\"900\" height=\"800\" frameborder=\"0\" scrolling=\"no\" src=\"//plotly.com/~mjcherkassky/1.embed\"></iframe>"
   ]
  },
  {
   "cell_type": "code",
   "execution_count": null,
   "metadata": {},
   "outputs": [],
   "source": [
    "# <div>\n",
    "#      <a href=\"https://plotly.com/~mjcherkassky/1/?share_key=YQM34UyJwpeOnbAhvU2Qnl\" target=\"_blank\" title=\"Renewable Generation 2019\" style=\"display: block; text-align: center;\"><img src=\"https://plotly.com/~mjcherkassky/1.png?share_key=YQM34UyJwpeOnbAhvU2Qnl\" alt=\"Renewable Generation 2019\" style=\"max-width: 100%;width: 600px;\"  width=\"600\" onerror=\"this.onerror=null;this.src='https://plotly.com/404.png';\" /></a>\n",
    "#      <script data-plotly=\"mjcherkassky:1\" sharekey-plotly=\"YQM34UyJwpeOnbAhvU2Qnl\" src=\"https://plotly.com/embed.js\" async></script>\n",
    "#  </div>"
   ]
  }
 ]
}